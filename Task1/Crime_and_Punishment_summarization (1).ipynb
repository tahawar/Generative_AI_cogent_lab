{
  "cells": [
    {
      "cell_type": "markdown",
      "id": "c6306798",
      "metadata": {
        "id": "c6306798"
      },
      "source": [
        "# Candidate Informaton:\n",
        "## Name: Tahawar ihsan\n",
        "## Email: tahawarihsan@gmail.com\n",
        "\n"
      ]
    },
    {
      "cell_type": "code",
      "execution_count": 47,
      "id": "b0e7dd3f",
      "metadata": {
        "id": "b0e7dd3f",
        "colab": {
          "base_uri": "https://localhost:8080/"
        },
        "outputId": "e072dd59-0890-4cc7-f7a7-28898c2ac5fe"
      },
      "outputs": [
        {
          "output_type": "stream",
          "name": "stdout",
          "text": [
            "Requirement already satisfied: langchain in /usr/local/lib/python3.10/dist-packages (0.2.1)\n",
            "Requirement already satisfied: PyYAML>=5.3 in /usr/local/lib/python3.10/dist-packages (from langchain) (6.0.1)\n",
            "Requirement already satisfied: SQLAlchemy<3,>=1.4 in /usr/local/lib/python3.10/dist-packages (from langchain) (2.0.30)\n",
            "Requirement already satisfied: aiohttp<4.0.0,>=3.8.3 in /usr/local/lib/python3.10/dist-packages (from langchain) (3.9.5)\n",
            "Requirement already satisfied: async-timeout<5.0.0,>=4.0.0 in /usr/local/lib/python3.10/dist-packages (from langchain) (4.0.3)\n",
            "Requirement already satisfied: langchain-core<0.3.0,>=0.2.0 in /usr/local/lib/python3.10/dist-packages (from langchain) (0.2.1)\n",
            "Requirement already satisfied: langchain-text-splitters<0.3.0,>=0.2.0 in /usr/local/lib/python3.10/dist-packages (from langchain) (0.2.0)\n",
            "Requirement already satisfied: langsmith<0.2.0,>=0.1.17 in /usr/local/lib/python3.10/dist-packages (from langchain) (0.1.63)\n",
            "Requirement already satisfied: numpy<2,>=1 in /usr/local/lib/python3.10/dist-packages (from langchain) (1.25.2)\n",
            "Requirement already satisfied: pydantic<3,>=1 in /usr/local/lib/python3.10/dist-packages (from langchain) (2.7.1)\n",
            "Requirement already satisfied: requests<3,>=2 in /usr/local/lib/python3.10/dist-packages (from langchain) (2.31.0)\n",
            "Requirement already satisfied: tenacity<9.0.0,>=8.1.0 in /usr/local/lib/python3.10/dist-packages (from langchain) (8.3.0)\n",
            "Requirement already satisfied: aiosignal>=1.1.2 in /usr/local/lib/python3.10/dist-packages (from aiohttp<4.0.0,>=3.8.3->langchain) (1.3.1)\n",
            "Requirement already satisfied: attrs>=17.3.0 in /usr/local/lib/python3.10/dist-packages (from aiohttp<4.0.0,>=3.8.3->langchain) (23.2.0)\n",
            "Requirement already satisfied: frozenlist>=1.1.1 in /usr/local/lib/python3.10/dist-packages (from aiohttp<4.0.0,>=3.8.3->langchain) (1.4.1)\n",
            "Requirement already satisfied: multidict<7.0,>=4.5 in /usr/local/lib/python3.10/dist-packages (from aiohttp<4.0.0,>=3.8.3->langchain) (6.0.5)\n",
            "Requirement already satisfied: yarl<2.0,>=1.0 in /usr/local/lib/python3.10/dist-packages (from aiohttp<4.0.0,>=3.8.3->langchain) (1.9.4)\n",
            "Requirement already satisfied: jsonpatch<2.0,>=1.33 in /usr/local/lib/python3.10/dist-packages (from langchain-core<0.3.0,>=0.2.0->langchain) (1.33)\n",
            "Requirement already satisfied: packaging<24.0,>=23.2 in /usr/local/lib/python3.10/dist-packages (from langchain-core<0.3.0,>=0.2.0->langchain) (23.2)\n",
            "Requirement already satisfied: orjson<4.0.0,>=3.9.14 in /usr/local/lib/python3.10/dist-packages (from langsmith<0.2.0,>=0.1.17->langchain) (3.10.3)\n",
            "Requirement already satisfied: annotated-types>=0.4.0 in /usr/local/lib/python3.10/dist-packages (from pydantic<3,>=1->langchain) (0.7.0)\n",
            "Requirement already satisfied: pydantic-core==2.18.2 in /usr/local/lib/python3.10/dist-packages (from pydantic<3,>=1->langchain) (2.18.2)\n",
            "Requirement already satisfied: typing-extensions>=4.6.1 in /usr/local/lib/python3.10/dist-packages (from pydantic<3,>=1->langchain) (4.11.0)\n",
            "Requirement already satisfied: charset-normalizer<4,>=2 in /usr/local/lib/python3.10/dist-packages (from requests<3,>=2->langchain) (3.3.2)\n",
            "Requirement already satisfied: idna<4,>=2.5 in /usr/local/lib/python3.10/dist-packages (from requests<3,>=2->langchain) (3.7)\n",
            "Requirement already satisfied: urllib3<3,>=1.21.1 in /usr/local/lib/python3.10/dist-packages (from requests<3,>=2->langchain) (2.0.7)\n",
            "Requirement already satisfied: certifi>=2017.4.17 in /usr/local/lib/python3.10/dist-packages (from requests<3,>=2->langchain) (2024.2.2)\n",
            "Requirement already satisfied: greenlet!=0.4.17 in /usr/local/lib/python3.10/dist-packages (from SQLAlchemy<3,>=1.4->langchain) (3.0.3)\n",
            "Requirement already satisfied: jsonpointer>=1.9 in /usr/local/lib/python3.10/dist-packages (from jsonpatch<2.0,>=1.33->langchain-core<0.3.0,>=0.2.0->langchain) (2.4)\n",
            "Requirement already satisfied: unstructured in /usr/local/lib/python3.10/dist-packages (0.14.2)\n",
            "Requirement already satisfied: chardet in /usr/local/lib/python3.10/dist-packages (from unstructured) (5.2.0)\n",
            "Requirement already satisfied: filetype in /usr/local/lib/python3.10/dist-packages (from unstructured) (1.2.0)\n",
            "Requirement already satisfied: python-magic in /usr/local/lib/python3.10/dist-packages (from unstructured) (0.4.27)\n",
            "Requirement already satisfied: lxml in /usr/local/lib/python3.10/dist-packages (from unstructured) (4.9.4)\n",
            "Requirement already satisfied: nltk in /usr/local/lib/python3.10/dist-packages (from unstructured) (3.8.1)\n",
            "Requirement already satisfied: tabulate in /usr/local/lib/python3.10/dist-packages (from unstructured) (0.9.0)\n",
            "Requirement already satisfied: requests in /usr/local/lib/python3.10/dist-packages (from unstructured) (2.31.0)\n",
            "Requirement already satisfied: beautifulsoup4 in /usr/local/lib/python3.10/dist-packages (from unstructured) (4.12.3)\n",
            "Requirement already satisfied: emoji in /usr/local/lib/python3.10/dist-packages (from unstructured) (2.12.1)\n",
            "Requirement already satisfied: dataclasses-json in /usr/local/lib/python3.10/dist-packages (from unstructured) (0.6.6)\n",
            "Requirement already satisfied: python-iso639 in /usr/local/lib/python3.10/dist-packages (from unstructured) (2024.4.27)\n",
            "Requirement already satisfied: langdetect in /usr/local/lib/python3.10/dist-packages (from unstructured) (1.0.9)\n",
            "Requirement already satisfied: numpy in /usr/local/lib/python3.10/dist-packages (from unstructured) (1.25.2)\n",
            "Requirement already satisfied: rapidfuzz in /usr/local/lib/python3.10/dist-packages (from unstructured) (3.9.1)\n",
            "Requirement already satisfied: backoff in /usr/local/lib/python3.10/dist-packages (from unstructured) (2.2.1)\n",
            "Requirement already satisfied: typing-extensions in /usr/local/lib/python3.10/dist-packages (from unstructured) (4.11.0)\n",
            "Requirement already satisfied: unstructured-client in /usr/local/lib/python3.10/dist-packages (from unstructured) (0.22.0)\n",
            "Requirement already satisfied: wrapt in /usr/local/lib/python3.10/dist-packages (from unstructured) (1.14.1)\n",
            "Requirement already satisfied: soupsieve>1.2 in /usr/local/lib/python3.10/dist-packages (from beautifulsoup4->unstructured) (2.5)\n",
            "Requirement already satisfied: marshmallow<4.0.0,>=3.18.0 in /usr/local/lib/python3.10/dist-packages (from dataclasses-json->unstructured) (3.21.2)\n",
            "Requirement already satisfied: typing-inspect<1,>=0.4.0 in /usr/local/lib/python3.10/dist-packages (from dataclasses-json->unstructured) (0.9.0)\n",
            "Requirement already satisfied: six in /usr/local/lib/python3.10/dist-packages (from langdetect->unstructured) (1.16.0)\n",
            "Requirement already satisfied: click in /usr/local/lib/python3.10/dist-packages (from nltk->unstructured) (8.1.7)\n",
            "Requirement already satisfied: joblib in /usr/local/lib/python3.10/dist-packages (from nltk->unstructured) (1.4.2)\n",
            "Requirement already satisfied: regex>=2021.8.3 in /usr/local/lib/python3.10/dist-packages (from nltk->unstructured) (2023.12.25)\n",
            "Requirement already satisfied: tqdm in /usr/local/lib/python3.10/dist-packages (from nltk->unstructured) (4.66.4)\n",
            "Requirement already satisfied: charset-normalizer<4,>=2 in /usr/local/lib/python3.10/dist-packages (from requests->unstructured) (3.3.2)\n",
            "Requirement already satisfied: idna<4,>=2.5 in /usr/local/lib/python3.10/dist-packages (from requests->unstructured) (3.7)\n",
            "Requirement already satisfied: urllib3<3,>=1.21.1 in /usr/local/lib/python3.10/dist-packages (from requests->unstructured) (2.0.7)\n",
            "Requirement already satisfied: certifi>=2017.4.17 in /usr/local/lib/python3.10/dist-packages (from requests->unstructured) (2024.2.2)\n",
            "Requirement already satisfied: deepdiff>=6.0 in /usr/local/lib/python3.10/dist-packages (from unstructured-client->unstructured) (7.0.1)\n",
            "Requirement already satisfied: jsonpath-python>=1.0.6 in /usr/local/lib/python3.10/dist-packages (from unstructured-client->unstructured) (1.0.6)\n",
            "Requirement already satisfied: mypy-extensions>=1.0.0 in /usr/local/lib/python3.10/dist-packages (from unstructured-client->unstructured) (1.0.0)\n",
            "Requirement already satisfied: packaging>=23.1 in /usr/local/lib/python3.10/dist-packages (from unstructured-client->unstructured) (23.2)\n",
            "Requirement already satisfied: pypdf>=4.0 in /usr/local/lib/python3.10/dist-packages (from unstructured-client->unstructured) (4.2.0)\n",
            "Requirement already satisfied: python-dateutil>=2.8.2 in /usr/local/lib/python3.10/dist-packages (from unstructured-client->unstructured) (2.8.2)\n",
            "Requirement already satisfied: ordered-set<4.2.0,>=4.1.0 in /usr/local/lib/python3.10/dist-packages (from deepdiff>=6.0->unstructured-client->unstructured) (4.1.0)\n",
            "Requirement already satisfied: pdf2image in /usr/local/lib/python3.10/dist-packages (1.17.0)\n",
            "Requirement already satisfied: pillow in /usr/local/lib/python3.10/dist-packages (from pdf2image) (9.4.0)\n",
            "Requirement already satisfied: pdfminer in /usr/local/lib/python3.10/dist-packages (20191125)\n",
            "Requirement already satisfied: pycryptodome in /usr/local/lib/python3.10/dist-packages (from pdfminer) (3.20.0)\n",
            "Requirement already satisfied: pdfminer.six in /usr/local/lib/python3.10/dist-packages (20231228)\n",
            "Requirement already satisfied: charset-normalizer>=2.0.0 in /usr/local/lib/python3.10/dist-packages (from pdfminer.six) (3.3.2)\n",
            "Requirement already satisfied: cryptography>=36.0.0 in /usr/local/lib/python3.10/dist-packages (from pdfminer.six) (42.0.7)\n",
            "Requirement already satisfied: cffi>=1.12 in /usr/local/lib/python3.10/dist-packages (from cryptography>=36.0.0->pdfminer.six) (1.16.0)\n",
            "Requirement already satisfied: pycparser in /usr/local/lib/python3.10/dist-packages (from cffi>=1.12->cryptography>=36.0.0->pdfminer.six) (2.22)\n",
            "Requirement already satisfied: markdown in /usr/local/lib/python3.10/dist-packages (3.6)\n",
            "Requirement already satisfied: openai in /usr/local/lib/python3.10/dist-packages (1.30.3)\n",
            "Requirement already satisfied: anyio<5,>=3.5.0 in /usr/local/lib/python3.10/dist-packages (from openai) (3.7.1)\n",
            "Requirement already satisfied: distro<2,>=1.7.0 in /usr/lib/python3/dist-packages (from openai) (1.7.0)\n",
            "Requirement already satisfied: httpx<1,>=0.23.0 in /usr/local/lib/python3.10/dist-packages (from openai) (0.27.0)\n",
            "Requirement already satisfied: pydantic<3,>=1.9.0 in /usr/local/lib/python3.10/dist-packages (from openai) (2.7.1)\n",
            "Requirement already satisfied: sniffio in /usr/local/lib/python3.10/dist-packages (from openai) (1.3.1)\n",
            "Requirement already satisfied: tqdm>4 in /usr/local/lib/python3.10/dist-packages (from openai) (4.66.4)\n",
            "Requirement already satisfied: typing-extensions<5,>=4.7 in /usr/local/lib/python3.10/dist-packages (from openai) (4.11.0)\n",
            "Requirement already satisfied: idna>=2.8 in /usr/local/lib/python3.10/dist-packages (from anyio<5,>=3.5.0->openai) (3.7)\n",
            "Requirement already satisfied: exceptiongroup in /usr/local/lib/python3.10/dist-packages (from anyio<5,>=3.5.0->openai) (1.2.1)\n",
            "Requirement already satisfied: certifi in /usr/local/lib/python3.10/dist-packages (from httpx<1,>=0.23.0->openai) (2024.2.2)\n",
            "Requirement already satisfied: httpcore==1.* in /usr/local/lib/python3.10/dist-packages (from httpx<1,>=0.23.0->openai) (1.0.5)\n",
            "Requirement already satisfied: h11<0.15,>=0.13 in /usr/local/lib/python3.10/dist-packages (from httpcore==1.*->httpx<1,>=0.23.0->openai) (0.14.0)\n",
            "Requirement already satisfied: annotated-types>=0.4.0 in /usr/local/lib/python3.10/dist-packages (from pydantic<3,>=1.9.0->openai) (0.7.0)\n",
            "Requirement already satisfied: pydantic-core==2.18.2 in /usr/local/lib/python3.10/dist-packages (from pydantic<3,>=1.9.0->openai) (2.18.2)\n",
            "Requirement already satisfied: reportlab in /usr/local/lib/python3.10/dist-packages (4.2.0)\n",
            "Requirement already satisfied: pillow>=9.0.0 in /usr/local/lib/python3.10/dist-packages (from reportlab) (9.4.0)\n",
            "Requirement already satisfied: chardet in /usr/local/lib/python3.10/dist-packages (from reportlab) (5.2.0)\n",
            "Requirement already satisfied: pymupdf in /usr/local/lib/python3.10/dist-packages (1.24.4)\n",
            "Requirement already satisfied: PyMuPDFb==1.24.3 in /usr/local/lib/python3.10/dist-packages (from pymupdf) (1.24.3)\n",
            "Requirement already satisfied: langchain-community in /usr/local/lib/python3.10/dist-packages (0.2.1)\n",
            "Requirement already satisfied: PyYAML>=5.3 in /usr/local/lib/python3.10/dist-packages (from langchain-community) (6.0.1)\n",
            "Requirement already satisfied: SQLAlchemy<3,>=1.4 in /usr/local/lib/python3.10/dist-packages (from langchain-community) (2.0.30)\n",
            "Requirement already satisfied: aiohttp<4.0.0,>=3.8.3 in /usr/local/lib/python3.10/dist-packages (from langchain-community) (3.9.5)\n",
            "Requirement already satisfied: dataclasses-json<0.7,>=0.5.7 in /usr/local/lib/python3.10/dist-packages (from langchain-community) (0.6.6)\n",
            "Requirement already satisfied: langchain<0.3.0,>=0.2.0 in /usr/local/lib/python3.10/dist-packages (from langchain-community) (0.2.1)\n",
            "Requirement already satisfied: langchain-core<0.3.0,>=0.2.0 in /usr/local/lib/python3.10/dist-packages (from langchain-community) (0.2.1)\n",
            "Requirement already satisfied: langsmith<0.2.0,>=0.1.0 in /usr/local/lib/python3.10/dist-packages (from langchain-community) (0.1.63)\n",
            "Requirement already satisfied: numpy<2,>=1 in /usr/local/lib/python3.10/dist-packages (from langchain-community) (1.25.2)\n",
            "Requirement already satisfied: requests<3,>=2 in /usr/local/lib/python3.10/dist-packages (from langchain-community) (2.31.0)\n",
            "Requirement already satisfied: tenacity<9.0.0,>=8.1.0 in /usr/local/lib/python3.10/dist-packages (from langchain-community) (8.3.0)\n",
            "Requirement already satisfied: aiosignal>=1.1.2 in /usr/local/lib/python3.10/dist-packages (from aiohttp<4.0.0,>=3.8.3->langchain-community) (1.3.1)\n",
            "Requirement already satisfied: attrs>=17.3.0 in /usr/local/lib/python3.10/dist-packages (from aiohttp<4.0.0,>=3.8.3->langchain-community) (23.2.0)\n",
            "Requirement already satisfied: frozenlist>=1.1.1 in /usr/local/lib/python3.10/dist-packages (from aiohttp<4.0.0,>=3.8.3->langchain-community) (1.4.1)\n",
            "Requirement already satisfied: multidict<7.0,>=4.5 in /usr/local/lib/python3.10/dist-packages (from aiohttp<4.0.0,>=3.8.3->langchain-community) (6.0.5)\n",
            "Requirement already satisfied: yarl<2.0,>=1.0 in /usr/local/lib/python3.10/dist-packages (from aiohttp<4.0.0,>=3.8.3->langchain-community) (1.9.4)\n",
            "Requirement already satisfied: async-timeout<5.0,>=4.0 in /usr/local/lib/python3.10/dist-packages (from aiohttp<4.0.0,>=3.8.3->langchain-community) (4.0.3)\n",
            "Requirement already satisfied: marshmallow<4.0.0,>=3.18.0 in /usr/local/lib/python3.10/dist-packages (from dataclasses-json<0.7,>=0.5.7->langchain-community) (3.21.2)\n",
            "Requirement already satisfied: typing-inspect<1,>=0.4.0 in /usr/local/lib/python3.10/dist-packages (from dataclasses-json<0.7,>=0.5.7->langchain-community) (0.9.0)\n",
            "Requirement already satisfied: langchain-text-splitters<0.3.0,>=0.2.0 in /usr/local/lib/python3.10/dist-packages (from langchain<0.3.0,>=0.2.0->langchain-community) (0.2.0)\n",
            "Requirement already satisfied: pydantic<3,>=1 in /usr/local/lib/python3.10/dist-packages (from langchain<0.3.0,>=0.2.0->langchain-community) (2.7.1)\n",
            "Requirement already satisfied: jsonpatch<2.0,>=1.33 in /usr/local/lib/python3.10/dist-packages (from langchain-core<0.3.0,>=0.2.0->langchain-community) (1.33)\n",
            "Requirement already satisfied: packaging<24.0,>=23.2 in /usr/local/lib/python3.10/dist-packages (from langchain-core<0.3.0,>=0.2.0->langchain-community) (23.2)\n",
            "Requirement already satisfied: orjson<4.0.0,>=3.9.14 in /usr/local/lib/python3.10/dist-packages (from langsmith<0.2.0,>=0.1.0->langchain-community) (3.10.3)\n",
            "Requirement already satisfied: charset-normalizer<4,>=2 in /usr/local/lib/python3.10/dist-packages (from requests<3,>=2->langchain-community) (3.3.2)\n",
            "Requirement already satisfied: idna<4,>=2.5 in /usr/local/lib/python3.10/dist-packages (from requests<3,>=2->langchain-community) (3.7)\n",
            "Requirement already satisfied: urllib3<3,>=1.21.1 in /usr/local/lib/python3.10/dist-packages (from requests<3,>=2->langchain-community) (2.0.7)\n",
            "Requirement already satisfied: certifi>=2017.4.17 in /usr/local/lib/python3.10/dist-packages (from requests<3,>=2->langchain-community) (2024.2.2)\n",
            "Requirement already satisfied: typing-extensions>=4.6.0 in /usr/local/lib/python3.10/dist-packages (from SQLAlchemy<3,>=1.4->langchain-community) (4.11.0)\n",
            "Requirement already satisfied: greenlet!=0.4.17 in /usr/local/lib/python3.10/dist-packages (from SQLAlchemy<3,>=1.4->langchain-community) (3.0.3)\n",
            "Requirement already satisfied: jsonpointer>=1.9 in /usr/local/lib/python3.10/dist-packages (from jsonpatch<2.0,>=1.33->langchain-core<0.3.0,>=0.2.0->langchain-community) (2.4)\n",
            "Requirement already satisfied: annotated-types>=0.4.0 in /usr/local/lib/python3.10/dist-packages (from pydantic<3,>=1->langchain<0.3.0,>=0.2.0->langchain-community) (0.7.0)\n",
            "Requirement already satisfied: pydantic-core==2.18.2 in /usr/local/lib/python3.10/dist-packages (from pydantic<3,>=1->langchain<0.3.0,>=0.2.0->langchain-community) (2.18.2)\n",
            "Requirement already satisfied: mypy-extensions>=0.3.0 in /usr/local/lib/python3.10/dist-packages (from typing-inspect<1,>=0.4.0->dataclasses-json<0.7,>=0.5.7->langchain-community) (1.0.0)\n"
          ]
        }
      ],
      "source": [
        "#installation required\n",
        "! pip install langchain\n",
        "! pip install unstructured\n",
        "! pip install pdf2image\n",
        "! pip install pdfminer\n",
        "! pip install pdfminer.six\n",
        "! pip install markdown\n",
        "! pip install openai\n",
        "! pip install reportlab\n",
        "! pip install pymupdf\n",
        "! pip install -U langchain-community\n",
        "\n"
      ]
    },
    {
      "cell_type": "code",
      "source": [
        "# pip install unstructured_inference\n",
        "# !pip install -U langchain-community"
      ],
      "metadata": {
        "id": "2qm-Lkor-GlY"
      },
      "id": "2qm-Lkor-GlY",
      "execution_count": 48,
      "outputs": []
    },
    {
      "cell_type": "markdown",
      "id": "f9e5d8f6",
      "metadata": {
        "id": "f9e5d8f6"
      },
      "source": [
        "# Source Material:\n",
        "URL: https://drive.google.com/uc?export=download&id=1WYaEoSozvUmJ_Lt5clAVs8NuSu43h9ps"
      ]
    },
    {
      "cell_type": "markdown",
      "id": "2071cc6b",
      "metadata": {
        "id": "2071cc6b"
      },
      "source": [
        "# Data Loading"
      ]
    },
    {
      "cell_type": "code",
      "execution_count": null,
      "id": "c1c2caf8",
      "metadata": {
        "id": "c1c2caf8"
      },
      "outputs": [],
      "source": [
        "from langchain_community.document_loaders import OnlinePDFLoader\n",
        "import re"
      ]
    },
    {
      "cell_type": "code",
      "execution_count": null,
      "id": "5bc1e4db",
      "metadata": {
        "id": "5bc1e4db"
      },
      "outputs": [],
      "source": [
        "# loader = OnlinePDFLoader(\"https://drive.google.com/file/d/1WYaEoSozvUmJ_Lt5clAVs8NuSu43h9ps/view\")"
      ]
    },
    {
      "cell_type": "code",
      "source": [
        "from langchain_community.document_loaders import PyMuPDFLoader\n",
        "import re\n",
        "loader = PyMuPDFLoader(\"/content/crime-and-punishment (3).pdf\")"
      ],
      "metadata": {
        "id": "xizVhatb7gYk"
      },
      "id": "xizVhatb7gYk",
      "execution_count": 50,
      "outputs": []
    },
    {
      "cell_type": "code",
      "execution_count": 51,
      "id": "8c17a9c7",
      "metadata": {
        "colab": {
          "base_uri": "https://localhost:8080/"
        },
        "id": "8c17a9c7",
        "outputId": "ac961562-feca-434f-a607-900101b4b4b6"
      },
      "outputs": [
        {
          "output_type": "execute_result",
          "data": {
            "text/plain": [
              "Document(page_content='Download free eBooks of classic literature, books and \\nnovels at Planet eBook. Subscribe to our free eBooks blog \\nand email newsletter.\\nCrime and Punishment\\nBy Fyodor Dostoevsky\\n', metadata={'source': '/content/crime-and-punishment (3).pdf', 'file_path': '/content/crime-and-punishment (3).pdf', 'page': 0, 'total_pages': 767, 'format': 'PDF 1.5', 'title': 'Crime and Punishment', 'author': 'Fyodor Dostoevsky', 'subject': 'Download classic literature as completely free eBooks from Planet eBook. ', 'keywords': '', 'creator': 'Adobe InDesign CS2 (4.0)', 'producer': 'Adobe PDF Library 7.0', 'creationDate': \"D:20080206205229+11'00'\", 'modDate': \"D:20080706190506+10'00'\", 'trapped': ''})"
            ]
          },
          "metadata": {},
          "execution_count": 51
        }
      ],
      "source": [
        "data = loader.load()\n",
        "data[0]"
      ]
    },
    {
      "cell_type": "code",
      "source": [
        "data[0].dict().keys()"
      ],
      "metadata": {
        "colab": {
          "base_uri": "https://localhost:8080/"
        },
        "id": "6h5myo47JtHI",
        "outputId": "e4a633fc-88a6-4840-ef0c-fc1faa77579b"
      },
      "id": "6h5myo47JtHI",
      "execution_count": 52,
      "outputs": [
        {
          "output_type": "execute_result",
          "data": {
            "text/plain": [
              "dict_keys(['page_content', 'metadata', 'type'])"
            ]
          },
          "metadata": {},
          "execution_count": 52
        }
      ]
    },
    {
      "cell_type": "code",
      "source": [
        "data[0].type"
      ],
      "metadata": {
        "colab": {
          "base_uri": "https://localhost:8080/",
          "height": 35
        },
        "id": "gLIZr-W_JvXw",
        "outputId": "f0908925-742c-4adb-f4d3-e8f4898fd73c"
      },
      "id": "gLIZr-W_JvXw",
      "execution_count": 53,
      "outputs": [
        {
          "output_type": "execute_result",
          "data": {
            "text/plain": [
              "'Document'"
            ],
            "application/vnd.google.colaboratory.intrinsic+json": {
              "type": "string"
            }
          },
          "metadata": {},
          "execution_count": 53
        }
      ]
    },
    {
      "cell_type": "code",
      "source": [
        "data[0].page_content"
      ],
      "metadata": {
        "colab": {
          "base_uri": "https://localhost:8080/",
          "height": 35
        },
        "id": "UTGqoyXtJ2YR",
        "outputId": "bfa156b2-5038-4ff7-e879-90afcf26feca"
      },
      "id": "UTGqoyXtJ2YR",
      "execution_count": 54,
      "outputs": [
        {
          "output_type": "execute_result",
          "data": {
            "text/plain": [
              "'Download free eBooks of classic literature, books and \\nnovels at Planet eBook. Subscribe to our free eBooks blog \\nand email newsletter.\\nCrime and Punishment\\nBy Fyodor Dostoevsky\\n'"
            ],
            "application/vnd.google.colaboratory.intrinsic+json": {
              "type": "string"
            }
          },
          "metadata": {},
          "execution_count": 54
        }
      ]
    },
    {
      "cell_type": "code",
      "source": [
        "data[1].dict()[\"page_content\"][:1000]"
      ],
      "metadata": {
        "colab": {
          "base_uri": "https://localhost:8080/",
          "height": 122
        },
        "id": "F9IrTaS9KDvj",
        "outputId": "420ad8c1-c6ac-4867-ec8e-e0478efcd997"
      },
      "id": "F9IrTaS9KDvj",
      "execution_count": 55,
      "outputs": [
        {
          "output_type": "execute_result",
          "data": {
            "text/plain": [
              "'Crime and Punishment\\n\\uf645\\nTranslator’s Preface\\nA \\nfew words about Dostoevsky himself may help the Eng-\\nlish reader to understand his work.\\nDostoevsky was the son of a doctor. His parents were \\nvery hard- working and deeply religious people, but so poor \\nthat they lived with their five children in only two rooms. \\nThe father and mother spent their evenings in reading aloud \\nto their children, generally from books of a serious charac-\\nter.\\nThough always sickly and delicate Dostoevsky came out \\nthird in the final examination of the Petersburg school of \\nEngineering. There he had already begun his first work, \\n‘Poor Folk.’\\nThis story was published by the poet Nekrassov in his \\nreview and was received with acclamations. The shy, un-\\nknown youth found himself instantly something of a \\ncelebrity. A brilliant and successful career seemed to open \\nbefore him, but those hopes were soon dashed. In 1849 he \\nwas arrested.\\nThough neither by temperament nor conviction a revolu-\\ntionist, Dostoevsky was o'"
            ],
            "application/vnd.google.colaboratory.intrinsic+json": {
              "type": "string"
            }
          },
          "metadata": {},
          "execution_count": 55
        }
      ]
    },
    {
      "cell_type": "code",
      "source": [
        "data[0].metadata\n",
        "\n"
      ],
      "metadata": {
        "colab": {
          "base_uri": "https://localhost:8080/"
        },
        "id": "TSepJDDhJYZC",
        "outputId": "fcb0511e-8728-44e1-9860-9f8a7cf20384"
      },
      "id": "TSepJDDhJYZC",
      "execution_count": 56,
      "outputs": [
        {
          "output_type": "execute_result",
          "data": {
            "text/plain": [
              "{'source': '/content/crime-and-punishment (3).pdf',\n",
              " 'file_path': '/content/crime-and-punishment (3).pdf',\n",
              " 'page': 0,\n",
              " 'total_pages': 767,\n",
              " 'format': 'PDF 1.5',\n",
              " 'title': 'Crime and Punishment',\n",
              " 'author': 'Fyodor Dostoevsky',\n",
              " 'subject': 'Download classic literature as completely free eBooks from Planet eBook. ',\n",
              " 'keywords': '',\n",
              " 'creator': 'Adobe InDesign CS2 (4.0)',\n",
              " 'producer': 'Adobe PDF Library 7.0',\n",
              " 'creationDate': \"D:20080206205229+11'00'\",\n",
              " 'modDate': \"D:20080706190506+10'00'\",\n",
              " 'trapped': ''}"
            ]
          },
          "metadata": {},
          "execution_count": 56
        }
      ]
    },
    {
      "cell_type": "code",
      "source": [
        "# Assuming `data` is a list of Document objects loaded from the PyMuPDFLoader\n",
        "total_characters = sum(len(page.page_content) for page in data)\n",
        "full_text = \" \".join([page.page_content for page in data])\n",
        "\n",
        "print(f\"Total characters in the PDF: {total_characters}\")\n"
      ],
      "metadata": {
        "colab": {
          "base_uri": "https://localhost:8080/"
        },
        "id": "P4OvNrlHKTf6",
        "outputId": "120ce143-2f58-4f2f-c78b-e30698c6ee89"
      },
      "id": "P4OvNrlHKTf6",
      "execution_count": 57,
      "outputs": [
        {
          "output_type": "stream",
          "name": "stdout",
          "text": [
            "Total characters in the PDF: 1170703\n"
          ]
        }
      ]
    },
    {
      "cell_type": "markdown",
      "id": "edd41fb7",
      "metadata": {
        "id": "edd41fb7"
      },
      "source": [
        "# Data Preprocessing"
      ]
    },
    {
      "cell_type": "code",
      "source": [
        "import re\n",
        "\n",
        "def preprocess_text(text):\n",
        "    # More targeted removal of unwanted patterns, ensure headings are not removed\n",
        "    patterns_to_remove = [\n",
        "        r'\\n\\d+\\x18\\x18\\n',  # sequence of digit followed by non-printable characters\n",
        "        r'\\nFree eBooks at Planet eBook.com\\n',\n",
        "        r'\\n\\x18{2,3}\\d?\\n?',  # non-printable characters that might not be necessary\n",
        "    ]\n",
        "\n",
        "    for pattern in patterns_to_remove:\n",
        "        text = re.sub(pattern, '', text)\n",
        "\n",
        "    # Simplify multiple newlines to a single newline everywhere except around potential headings\n",
        "    text = re.sub(r'\\n+(?!Part |Chapter )', '\\n', text)\n",
        "\n",
        "    return text\n"
      ],
      "metadata": {
        "id": "Ycr9MwIRWaYe"
      },
      "id": "Ycr9MwIRWaYe",
      "execution_count": 58,
      "outputs": []
    },
    {
      "cell_type": "code",
      "source": [
        "def detect_part_boundaries(text):\n",
        "    part_pattern = r'Part [IVXLCDM]+\\n'\n",
        "    part_headings = re.findall(part_pattern, text)\n",
        "    parts = []\n",
        "\n",
        "    if not part_headings:\n",
        "        print(\"No part headings found. Ensure text is preprocessed correctly.\")\n",
        "        return parts\n",
        "\n",
        "    # Handle extraction of parts with detected headings\n",
        "    part_positions = [text.find(heading) for heading in part_headings] + [len(text)]\n",
        "    for i in range(len(part_headings)):\n",
        "        part_text = text[part_positions[i]:part_positions[i + 1]]\n",
        "        parts.append((part_headings[i].strip(), part_text))\n",
        "\n",
        "    return parts\n"
      ],
      "metadata": {
        "id": "EcREb3KPWdjb"
      },
      "id": "EcREb3KPWdjb",
      "execution_count": 59,
      "outputs": []
    },
    {
      "cell_type": "code",
      "source": [
        "def detect_chapter_boundaries(part_text, part_heading):\n",
        "    chapter_pattern = r'Chapter [IVXLCDM]+\\n'\n",
        "    chapters = re.split(chapter_pattern, part_text)\n",
        "\n",
        "    # Remove the first split if it's just a repeat of the part heading or very short (likely not a real chapter)\n",
        "    if chapters and (chapters[0].strip() == part_heading.strip() or len(chapters[0].strip()) < 50):\n",
        "        chapters = chapters[1:]\n",
        "\n",
        "    return [ch.strip() for ch in chapters if ch.strip()]\n"
      ],
      "metadata": {
        "id": "GVT50wEgZ--s"
      },
      "id": "GVT50wEgZ--s",
      "execution_count": 60,
      "outputs": []
    },
    {
      "cell_type": "code",
      "execution_count": 61,
      "id": "0d3d5957",
      "metadata": {
        "id": "0d3d5957"
      },
      "outputs": [],
      "source": [
        "# First, you need to preprocess the entire text.\n",
        "# full_text = \" \".join([page.page_content for page in data])  # Assuming 'data' is a list of document pages.\n",
        "cleaned_text = preprocess_text(full_text)\n",
        "\n",
        "# Now, call detect_part_boundaries with the cleaned text.\n",
        "parts = detect_part_boundaries(cleaned_text)\n",
        "\n",
        "\n"
      ]
    },
    {
      "cell_type": "code",
      "source": [
        "# Check if parts have been detected and handle them accordingly.\n",
        "if parts:\n",
        "    print(f\"Detected {len(parts)} parts.\")\n",
        "    # Now you can process these parts or access a specific part like so:\n",
        "    part1 = parts[0]  # Access the first part, which is a tuple of (part heading, part text)\n",
        "else:\n",
        "    print(\"No parts were detected.\")"
      ],
      "metadata": {
        "colab": {
          "base_uri": "https://localhost:8080/"
        },
        "id": "sIJMzlQTW4X_",
        "outputId": "17d55327-8665-49d0-c2ee-174653db1950"
      },
      "id": "sIJMzlQTW4X_",
      "execution_count": 62,
      "outputs": [
        {
          "output_type": "stream",
          "name": "stdout",
          "text": [
            "Detected 6 parts.\n"
          ]
        }
      ]
    },
    {
      "cell_type": "markdown",
      "id": "aa97c8a4",
      "metadata": {
        "id": "aa97c8a4"
      },
      "source": [
        "# Formatting and Saving in correct format"
      ]
    },
    {
      "cell_type": "code",
      "source": [
        "import os\n",
        "def create_markdown_file(parts):\n",
        "    output_dir = 'markdown_output'\n",
        "    os.makedirs(output_dir, exist_ok=True)\n",
        "\n",
        "    for part_num, (part_heading, part_text) in enumerate(parts):\n",
        "        part_number = part_num + 1\n",
        "        part_filename = os.path.join(output_dir, f'part_{part_number}_{part_heading.strip()}.md')\n",
        "\n",
        "        with open(part_filename, 'w', encoding='utf-8') as part_file:\n",
        "            # Write the part heading\n",
        "            part_file.write(f\"# {part_heading.strip()}\\n\\n\")\n",
        "\n",
        "            # Detect and write chapters within the part\n",
        "            chapters = detect_chapter_boundaries(part_text, part_heading)\n",
        "            for chapter_num, chapter_text in enumerate(chapters, 1):\n",
        "                part_file.write(f\"## Chapter {chapter_num}\\n\\n{chapter_text}\\n\\n\")\n",
        "\n",
        "            print(f\"Part {part_number} written to {part_filename}\")\n"
      ],
      "metadata": {
        "id": "CQ-2tLycaMfB"
      },
      "id": "CQ-2tLycaMfB",
      "execution_count": 63,
      "outputs": []
    },
    {
      "cell_type": "code",
      "source": [
        "# Load and preprocess your text\n",
        "full_text = \" \".join(page.page_content for page in data)\n",
        "cleaned_text = preprocess_text(full_text)\n",
        "\n",
        "# Detect parts and handle them\n",
        "parts = detect_part_boundaries(cleaned_text)\n",
        "create_markdown_file(parts)\n"
      ],
      "metadata": {
        "colab": {
          "base_uri": "https://localhost:8080/"
        },
        "id": "Yp5sNh09aPtG",
        "outputId": "49a37c8e-d982-499e-fe8b-17be11d011d1"
      },
      "id": "Yp5sNh09aPtG",
      "execution_count": 64,
      "outputs": [
        {
          "output_type": "stream",
          "name": "stdout",
          "text": [
            "Part 1 written to markdown_output/part_1_Part I.md\n",
            "Part 2 written to markdown_output/part_2_Part II.md\n",
            "Part 3 written to markdown_output/part_3_Part III.md\n",
            "Part 4 written to markdown_output/part_4_Part IV.md\n",
            "Part 5 written to markdown_output/part_5_Part V.md\n",
            "Part 6 written to markdown_output/part_6_Part VI.md\n"
          ]
        }
      ]
    },
    {
      "cell_type": "markdown",
      "id": "e982ddf8",
      "metadata": {
        "id": "e982ddf8"
      },
      "source": [
        "# Splitting"
      ]
    },
    {
      "cell_type": "code",
      "source": [
        "import os\n",
        "import glob\n",
        "from langchain.text_splitter import MarkdownHeaderTextSplitter\n",
        "\n",
        "# Set up the directory containing the Markdown files\n",
        "markdown_directory = 'markdown_output'  # Assuming you store Markdown files in this directory\n",
        "\n",
        "headers_to_split_on = [\n",
        "    (\"#\", \"Header 1\"),   # Split at main parts\n",
        "    (\"##\", \"Header 2\"), # Split at chapters within parts\n",
        "]\n",
        "markdown_splitter = MarkdownHeaderTextSplitter(headers_to_split_on=headers_to_split_on)\n",
        "\n",
        "splits = []\n",
        "\n",
        "for markdown_file in glob.glob(os.path.join(markdown_directory, \"*.md\")):\n",
        "    # Read the Markdown file\n",
        "    file_name = os.path.basename(markdown_file).replace(\"_\", ' ').split('.')[0]\n",
        "    print(f\"Processing file: {file_name}\")\n",
        "\n",
        "    with open(markdown_file, 'r', encoding='utf-8') as file:\n",
        "        markdown_text = file.read()\n",
        "\n",
        "    # Split the Markdown text based on headers\n",
        "    md_header_splits = markdown_splitter.split_text(markdown_text)\n",
        "\n",
        "    # Collecting splits\n",
        "    for split in md_header_splits:\n",
        "        splits.append(split)\n",
        "\n",
        "print(f\"Total Documents after split: {len(splits)}\")\n"
      ],
      "metadata": {
        "id": "hTCs1pUZb9z2",
        "colab": {
          "base_uri": "https://localhost:8080/"
        },
        "outputId": "c6717290-a289-4b68-df27-6741846a32a1"
      },
      "id": "hTCs1pUZb9z2",
      "execution_count": 68,
      "outputs": [
        {
          "output_type": "stream",
          "name": "stdout",
          "text": [
            "Processing file: part 4 Part IV\n",
            "Processing file: part 1 Part I\n",
            "Processing file: part 6 Part VI\n",
            "Processing file: part 3 Part III\n",
            "Processing file: part 2 Part II\n",
            "Processing file: part 5 Part V\n",
            "Total Documents after split: 39\n"
          ]
        }
      ]
    },
    {
      "cell_type": "code",
      "execution_count": 69,
      "id": "32c4dfa8",
      "metadata": {
        "colab": {
          "base_uri": "https://localhost:8080/"
        },
        "id": "32c4dfa8",
        "outputId": "cfee904c-c572-431f-abed-45d8400dbaca"
      },
      "outputs": [
        {
          "output_type": "stream",
          "name": "stdout",
          "text": [
            "Total Documents: 39\n"
          ]
        }
      ],
      "source": [
        "print(\"Total Documents: {}\".format(len(splits)))"
      ]
    },
    {
      "cell_type": "code",
      "execution_count": 70,
      "id": "43644237",
      "metadata": {
        "colab": {
          "base_uri": "https://localhost:8080/"
        },
        "id": "43644237",
        "outputId": "f6f6590a-1a65-4b6a-e49b-a9a4ca7f326b"
      },
      "outputs": [
        {
          "output_type": "execute_result",
          "data": {
            "text/plain": [
              "Document(page_content='‘O\\nf course, I’ve been meaning lately to go to Razumi-\\nhin’s to ask for work, to ask him to get me lessons or\\nsomething …’ Raskolnikov thought, ‘but what help can\\nhe be to me now? Suppose he gets me lessons, suppose he\\nshares his last farthing with me, if he has any farthings, so\\nthat I could get some boots and make myself tidy enough to\\ngive lessons … hm … Well and what then? What shall I do\\nwith the few coppers I earn? That’s not what I want now. It’s\\nreally absurd for me to go to Razumihin….’\\nThe question why he was now going to Razumihin agi-\\ntated him even more than he was himself aware; he kept\\nuneasily seeking for some sinister significance in this ap-\\nparently ordinary action.\\n‘Could I have expected to set it all straight and to find a\\nway out by means of Razumihin alone?’ he asked himself\\nin perplexity.\\nHe pondered and rubbed his forehead, and, strange to\\nsay, after long musing, suddenly, as if it were spontaneously\\nand by chance, a fantastic thought came into his head.\\n‘Hm … to Razumihin’s,’ he said all at once, calmly, as\\nthough he had reached a final determination. ‘I shall go to\\nRazumihin’s of course, but … not now. I shall go to him …\\non the next day after It, when It will be over and everything\\nwill begin afresh….’\\nCrime and Punishment\\n82\\nAnd suddenly he realised what he was thinking.\\n‘After It,’ he shouted, jumping up from the seat, ‘but is It\\nreally going to happen? Is it possible it really will happen?’\\nHe left the seat, and went off almost at a run; he meant to\\nturn back, homewards, but the thought of going home sud-\\ndenly filled him with intense loathing; in that hole, in that\\nawful little cupboard of his, all this had for a month past\\nbeen growing up in him; and he walked on at random.\\nHis nervous shudder had passed into a fever that made\\nhim feel shivering; in spite of the heat he felt cold. With a\\nkind of effort he began almost unconsciously, from some in-\\nner craving, to stare at all the objects before him, as though\\nlooking for something to distract his attention; but he did\\nnot succeed, and kept dropping every moment into brood-\\ning. When with a start he lifted his head again and looked\\nround, he forgot at once what he had just been thinking\\nabout and even where he was going. In this way he walked\\nright across Vassilyevsky Ostrov, came out on to the Lesser\\nNeva, crossed the bridge and turned towards the islands.\\nThe greenness and freshness were at first restful to his wea-\\nry eyes after the dust of the town and the huge houses that\\nhemmed him in and weighed upon him. Here there were\\nno taverns, no stifling closeness, no stench. But soon these\\nnew pleasant sensations passed into morbid irritability.\\nSometimes he stood still before a brightly painted summer\\nvilla standing among green foliage, he gazed through the\\nfence, he saw in the distance smartly dressed women on the\\nverandahs and balconies, and children running in the gar-\\ndens. The flowers especially caught his attention; he gazed\\n83at them longer than at anything. He was met, too, by luxu-\\nrious carriages and by men and women on horseback; he\\nwatched them with curious eyes and forgot about them be-\\nfore they had vanished from his sight. Once he stood still\\nand counted his money; he found he had thirty copecks.\\n‘Twenty to the policeman, three to Nastasya for the letter, so\\nI must have given forty-seven or fifty to the Marmeladovs\\nyesterday,’ he thought, reckoning it up for some unknown\\nreason, but he soon forgot with what object he had taken the\\nmoney out of his pocket. He recalled it on passing an eating-\\nhouse or tavern, and felt that he was hungry…. Going into\\nthe tavern he drank a glass of vodka and ate a pie of some\\nsort. He finished eating it as he walked away. It was a long\\nwhile since he had taken vodka and it had an effect upon\\nhim at once, though he only drank a wineglassful. His legs\\nfelt suddenly heavy and a great drowsiness came upon him.\\nHe turned homewards, but reaching Petrovsky Ostrov he\\nstopped completely exhausted, turned off the road into the\\nbushes, sank down upon the grass and instantly fell asleep.\\nIn a morbid condition of the brain, dreams often have a\\nsingular actuality, vividness, and extraordinary semblance\\nof reality. At times monstrous images are created, but the\\nsetting and the whole picture are so truthlike and filled\\nwith details so delicate, so unexpectedly, but so artistically\\nconsistent, that the dreamer, were he an artist like Push-\\nkin or Turgenev even, could never have invented them in\\nthe waking state. Such sick dreams always remain long in\\nthe memory and make a powerful impression on the over-\\nwrought and deranged nervous system.\\nCrime and Punishment\\n84\\nRaskolnikov had a fearful dream. He dreamt he was back\\nin his childhood in the little town of his birth. He was a\\nchild about seven years old, walking into the country with\\nhis father on the evening of a holiday. It was a grey and\\nheavy day, the country was exactly as he remembered it; in-\\ndeed he recalled it far more vividly in his dream than he\\nhad done in memory. The little town stood on a level flat\\nas bare as the hand, not even a willow near it; only in the\\nfar distance, a copse lay, a dark blur on the very edge of the\\nhorizon. A few paces beyond the last market garden stood\\na tavern, a big tavern, which had always aroused in him a\\nfeeling of aversion, even of fear, when he walked by it with\\nhis father. There was always a crowd there, always shouting,\\nlaughter and abuse, hideous hoarse singing and often fight-\\ning. Drunken and horrible-looking figures were hanging\\nabout the tavern. He used to cling close to his father, trem-\\nbling all over when he met them. Near the tavern the road\\nbecame a dusty track, the dust of which was always black.\\nIt was a winding road, and about a hundred paces further\\non, it turned to the right to the graveyard. In the middle\\nof the graveyard stood a stone church with a green cupola\\nwhere he used to go to mass two or three times a year with\\nhis father and mother, when a service was held in memory\\nof his grandmother, who had long been dead, and whom\\nhe had never seen. On these occasions they used to take on\\na white dish tied up in a table napkin a special sort of rice\\npudding with raisins stuck in it in the shape of a cross. He\\nloved that church, the old-fashioned, unadorned ikons and\\nthe old priest with the shaking head. Near his grandmoth-\\n85er’s grave, which was marked by a stone, was the little grave\\nof his younger brother who had died at six months old. He\\ndid not remember him at all, but he had been told about\\nhis little brother, and whenever he visited the graveyard he\\nused religiously and reverently to cross himself and to bow\\ndown and kiss the little grave. And now he dreamt that he\\nwas walking with his father past the tavern on the way to\\nthe graveyard; he was holding his father’s hand and looking\\nwith dread at the tavern. A peculiar circumstance attract-\\ned his attention: there seemed to be some kind of festivity\\ngoing on, there were crowds of gaily dressed townspeople,\\npeasant women, their husbands, and riff-raff of all sorts, all\\nsinging and all more or less drunk. Near the entrance of the\\ntavern stood a cart, but a strange cart. It was one of those\\nbig carts usually drawn by heavy cart-horses and laden with\\ncasks of wine or other heavy goods. He always liked look-\\ning at those great cart- horses, with their long manes, thick\\nlegs, and slow even pace, drawing along a perfect mountain\\nwith no appearance of effort, as though it were easier going\\nwith a load than without it. But now, strange to say, in the\\nshafts of such a cart he saw a thin little sorrel beast, one of\\nthose peasants’ nags which he had often seen straining their\\nutmost under a heavy load of wood or hay, especially when\\nthe wheels were stuck in the mud or in a rut. And the peas-\\nants would beat them so cruelly, sometimes even about the\\nnose and eyes, and he felt so sorry, so sorry for them that\\nhe almost cried, and his mother always used to take him\\naway from the window. All of a sudden there was a great\\nuproar of shouting, singing and the balalaïka, and from the\\nCrime and Punishment\\n86\\ntavern a number of big and very drunken peasants came\\nout, wearing red and blue shirts and coats thrown over their\\nshoulders.\\n‘Get in, get in!’ shouted one of them, a young thick-\\nnecked peasant with a fleshy face red as a carrot. ‘I’ll take\\nyou all, get in!’\\nBut at once there was an outbreak of laughter and excla-\\nmations in the crowd.\\n‘Take us all with a beast like that!’\\n‘Why, Mikolka, are you crazy to put a nag like that in\\nsuch a cart?’\\n‘And this mare is twenty if she is a day, mates!’\\n‘Get in, I’ll take you all,’ Mikolka shouted again, leaping\\nfirst into the cart, seizing the reins and standing straight up\\nin front. ‘The bay has gone with Matvey,’ he shouted from\\nthe cart—‘and this brute, mates, is just breaking my heart, I\\nfeel as if I could kill her. She’s just eating her head off. Get in,\\nI tell you! I’ll make her gallop! She’ll gallop!’ and he picked\\nup the whip, preparing himself with relish to flog the little\\nmare.\\n‘Get in! Come along!’ The crowd laughed. ‘D’you hear,\\nshe’ll gallop!’\\n‘Gallop indeed! She has not had a gallop in her for the\\nlast ten years!’\\n‘She’ll jog along!’\\n‘Don’t you mind her, mates, bring a whip each of you, get\\nready!’\\n‘All right! Give it to her!’\\nThey all clambered into Mikolka’s cart, laughing and\\n87making jokes. Six men got in and there was still room for\\nmore. They hauled in a fat, rosy-cheeked woman. She was\\ndressed in red cotton, in a pointed, beaded headdress and\\nthick leather shoes; she was cracking nuts and laughing. The\\ncrowd round them was laughing too and indeed, how could\\nthey help laughing? That wretched nag was to drag all the\\ncartload of them at a gallop! Two young fellows in the cart\\nwere just getting whips ready to help Mikolka. With the cry\\nof ‘now,’ the mare tugged with all her might, but far from\\ngalloping, could scarcely move forward; she struggled with\\nher legs, gasping and shrinking from the blows of the three\\nwhips which were showered upon her like hail. The laugh-\\nter in the cart and in the crowd was redoubled, but Mikolka\\nflew into a rage and furiously thrashed the mare, as though\\nhe supposed she really could gallop.\\n‘Let me get in, too, mates,’ shouted a young man in the\\ncrowd whose appetite was aroused.\\n‘Get in, all get in,’ cried Mikolka, ‘she will draw you all.\\nI’ll beat her to death!’ And he thrashed and thrashed at the\\nmare, beside himself with fury.\\n‘Father, father,’ he cried, ‘father, what are they doing? Fa-\\nther, they are beating the poor horse!’\\n‘Come along, come along!’ said his father. ‘They are\\ndrunken and foolish, they are in fun; come away, don’t\\nlook!’ and he tried to draw him away, but he tore himself\\naway from his hand, and, beside himself with horror, ran to\\nthe horse. The poor beast was in a bad way. She was gasping,\\nstanding still, then tugging again and almost falling.\\n‘Beat her to death,’ cried Mikolka, ‘it’s come to that. I’ll\\nCrime and Punishment\\n88\\ndo for her!’\\n‘What are you about, are you a Christian, you devil?’\\nshouted an old man in the crowd.\\n‘Did anyone ever see the like? A wretched nag like that\\npulling such a cartload,’ said another.\\n‘You’ll kill her,’ shouted the third.\\n‘Don’t meddle! It’s my property, I’ll do what I choose. Get\\nin, more of you! Get in, all of you! I will have her go at a gal-\\nlop! …’\\nAll at once laughter broke into a roar and covered every-\\nthing: the mare, roused by the shower of blows, began feebly\\nkicking. Even the old man could not help smiling. To think\\nof a wretched little beast like that trying to kick!\\nTwo lads in the crowd snatched up whips and ran to the\\nmare to beat her about the ribs. One ran each side.\\n‘Hit her in the face, in the eyes, in the eyes,’ cried Mikol-\\nka.\\n‘Give us a song, mates,’ shouted someone in the cart and\\neveryone in the cart joined in a riotous song, jingling a tam-\\nbourine and whistling. The woman went on cracking nuts\\nand laughing.\\n… He ran beside the mare, ran in front of her, saw her\\nbeing whipped across the eyes, right in the eyes! He was\\ncrying, he felt choking, his tears were streaming. One of the\\nmen gave him a cut with the whip across the face, he did\\nnot feel it. Wringing his hands and screaming, he rushed up\\nto the grey-headed old man with the grey beard, who was\\nshaking his head in disapproval. One woman seized him by\\nthe hand and would have taken him away, but he tore him-\\n89self from her and ran back to the mare. She was almost at\\nthe last gasp, but began kicking once more.\\n‘I’ll teach you to kick,’ Mikolka shouted ferociously. He\\nthrew down the whip, bent forward and picked up from the\\nbottom of the cart a long, thick shaft, he took hold of one\\nend with both hands and with an effort brandished it over\\nthe mare.\\n‘He’ll crush her,’ was shouted round him. ‘He’ll kill her!’\\n‘It’s my property,’ shouted Mikolka and brought the shaft\\ndown with a swinging blow. There was a sound of a heavy\\nthud.\\n‘Thrash her, thrash her! Why have you stopped?’ shouted\\nvoices in the crowd.\\nAnd Mikolka swung the shaft a second time and it fell\\na second time on the spine of the luckless mare. She sank\\nback on her haunches, but lurched forward and tugged for-\\nward with all her force, tugged first on one side and then on\\nthe other, trying to move the cart. But the six whips were at-\\ntacking her in all directions, and the shaft was raised again\\nand fell upon her a third time, then a fourth, with heavy\\nmeasured blows. Mikolka was in a fury that he could not\\nkill her at one blow.\\n‘She’s a tough one,’ was shouted in the crowd.\\n‘She’ll fall in a minute, mates, there will soon be an end of\\nher,’ said an admiring spectator in the crowd.\\n‘Fetch an axe to her! Finish her off,’ shouted a third.\\n‘I’ll show you! Stand off,’ Mikolka screamed frantical-\\nly; he threw down the shaft, stooped down in the cart and\\npicked up an iron crowbar. ‘Look out,’ he shouted, and with\\nCrime and Punishment\\n90\\nall his might he dealt a stunning blow at the poor mare. The\\nblow fell; the mare staggered, sank back, tried to pull, but\\nthe bar fell again with a swinging blow on her back and she\\nfell on the ground like a log.\\n‘Finish her off,’ shouted Mikolka and he leapt beside him-\\nself, out of the cart. Several young men, also flushed with\\ndrink, seized anything they could come across—whips,\\nsticks, poles, and ran to the dying mare. Mikolka stood on\\none side and began dealing random blows with the crow-\\nbar. The mare stretched out her head, drew a long breath\\nand died.\\n‘You butchered her,’ someone shouted in the crowd.\\n‘Why wouldn’t she gallop then?’\\n‘My property!’ shouted Mikolka, with bloodshot eyes,\\nbrandishing the bar in his hands. He stood as though re-\\ngretting that he had nothing more to beat.\\n‘No mistake about it, you are not a Christian,’ many voic-\\nes were shouting in the crowd.\\nBut the poor boy, beside himself, made his way, scream-\\ning, through the crowd to the sorrel nag, put his arms round\\nher bleeding dead head and kissed it, kissed the eyes and\\nkissed the lips…. Then he jumped up and flew in a frenzy\\nwith his little fists out at Mikolka. At that instant his father,\\nwho had been running after him, snatched him up and car-\\nried him out of the crowd.\\n‘Come along, come! Let us go home,’ he said to him.\\n‘Father! Why did they … kill … the poor horse!’ he\\nsobbed, but his voice broke and the words came in shrieks\\nfrom his panting chest.\\n91‘They are drunk…. They are brutal … it’s not our busi-\\nness!’ said his father. He put his arms round his father but\\nhe felt choked, choked. He tried to draw a breath, to cry\\nout—and woke up.\\nHe waked up, gasping for breath, his hair soaked with\\nperspiration, and stood up in terror.\\n‘Thank God, that was only a dream,’ he said, sitting down\\nunder a tree and drawing deep breaths. ‘But what is it? Is it\\nsome fever coming on? Such a hideous dream!’\\nHe felt utterly broken: darkness and confusion were in\\nhis soul. He rested his elbows on his knees and leaned his\\nhead on his hands.\\n‘Good God!’ he cried, ‘can it be, can it be, that I shall re-\\nally take an axe, that I shall strike her on the head, split her\\nskull open … that I shall tread in the sticky warm blood,\\nbreak the lock, steal and tremble; hide, all spattered in the\\nblood … with the axe…. Good God, can it be?’\\nHe was shaking like a leaf as he said this.\\n‘But why am I going on like this?’ he continued, sitting\\nup again, as it were in profound amazement. ‘I knew that I\\ncould never bring myself to it, so what have I been tortur-\\ning myself for till now? Yesterday, yesterday, when I went\\nto make that … experiment yesterday I realised complete-\\nly that I could never bear to do it…. Why am I going over\\nit again, then? Why am I hesitating? As I came down the\\nstairs yesterday, I said myself that it was base, loathsome,\\nvile, vile … the very thought of it made me feel sick and\\nfilled me with horror.\\n‘No, I couldn’t do it, I couldn’t do it! Granted, granted that\\nCrime and Punishment\\n92\\nthere is no flaw in all that reasoning, that all that I have con-\\ncluded this last month is clear as day, true as arithmetic….\\nMy God! Anyway I couldn’t bring myself to it! I couldn’t do\\nit, I couldn’t do it! Why, why then am I still … ?’\\nHe rose to his feet, looked round in wonder as though\\nsurprised at finding himself in this place, and went towards\\nthe bridge. He was pale, his eyes glowed, he was exhausted\\nin every limb, but he seemed suddenly to breathe more easi-\\nly. He felt he had cast off that fearful burden that had so long\\nbeen weighing upon him, and all at once there was a sense\\nof relief and peace in his soul. ‘Lord,’ he prayed, ‘show me\\nmy path—I renounce that accursed … dream of mine.’\\nCrossing the bridge, he gazed quietly and calmly at the\\nNeva, at the glowing red sun setting in the glowing sky. In\\nspite of his weakness he was not conscious of fatigue. It was\\nas though an abscess that had been forming for a month\\npast in his heart had suddenly broken. Freedom, freedom!\\nHe was free from that spell, that sorcery, that obsession!\\nLater on, when he recalled that time and all that hap-\\npened to him during those days, minute by minute, point\\nby point, he was superstitiously impressed by one circum-\\nstance, which, though in itself not very exceptional, always\\nseemed to him afterwards the predestined turning-point of\\nhis fate. He could never understand and explain to himself\\nwhy, when he was tired and worn out, when it would have\\nbeen more convenient for him to go home by the shortest\\nand most direct way, he had returned by the Hay Market\\nwhere he had no need to go. It was obviously and quite un-\\nnecessarily out of his way, though not much so. It is true that\\n93it happened to him dozens of times to return home without\\nnoticing what streets he passed through. But why, he was\\nalways asking himself, why had such an important, such\\na decisive and at the same time such an absolutely chance\\nmeeting happened in the Hay Market (where he had more-\\nover no reason to go) at the very hour, the very minute of\\nhis life when he was just in the very mood and in the very\\ncircumstances in which that meeting was able to exert the\\ngravest and most decisive influence on his whole destiny?\\nAs though it had been lying in wait for him on purpose!\\nIt was about nine o’clock when he crossed the Hay Mar-\\nket. At the tables and the barrows, at the booths and the\\nshops, all the market people were closing their establish-\\nments or clearing away and packing up their wares and, like\\ntheir customers, were going home. Rag pickers and coster-\\nmongers of all kinds were crowding round the taverns in\\nthe dirty and stinking courtyards of the Hay Market. Ras-\\nkolnikov particularly liked this place and the neighbouring\\nalleys, when he wandered aimlessly in the streets. Here his\\nrags did not attract contemptuous attention, and one could\\nwalk about in any attire without scandalising people. At the\\ncorner of an alley a huckster and his wife had two tables\\nset out with tapes, thread, cotton handkerchiefs, etc. They,\\ntoo, had got up to go home, but were lingering in conver-\\nsation with a friend, who had just come up to them. This\\nfriend was Lizaveta Ivanovna, or, as everyone called her,\\nLizaveta, the younger sister of the old pawnbroker, Alyona\\nIvanovna, whom Raskolnikov had visited the previous day\\nto pawn his watch and make his experiment…. He already\\nCrime and Punishment\\n94\\nknew all about Lizaveta and she knew him a little too. She\\nwas a single woman of about thirty-five, tall, clumsy, timid,\\nsubmissive and almost idiotic. She was a complete slave and\\nwent in fear and trembling of her sister, who made her work\\nday and night, and even beat her. She was standing with a\\nbundle before the huckster and his wife, listening earnestly\\nand doubtfully. They were talking of something with spe-\\ncial warmth. The moment Raskolnikov caught sight of her,\\nhe was overcome by a strange sensation as it were of intense\\nastonishment, though there was nothing astonishing about\\nthis meeting.\\n‘You could make up your mind for yourself, Lizaveta\\nIvanovna,’ the huckster was saying aloud. ‘Come round to-\\nmorrow about seven. They will be here too.’\\n‘To-morrow?’ said Lizaveta slowly and thoughtfully, as\\nthough unable to make up her mind.\\n‘Upon my word, what a fright you are in of Alyona Iva-\\nnovna,’ gabbled the huckster’s wife, a lively little woman. ‘I\\nlook at you, you are like some little babe. And she is not\\nyour own sister either-nothing but a step-sister and what a\\nhand she keeps over you!’\\n‘But this time don’t say a word to Alyona Ivanovna,’ her\\nhusband interrupted; ‘that’s my advice, but come round to\\nus without asking. It will be worth your while. Later on your\\nsister herself may have a notion.’\\n‘Am I to come?’\\n‘About seven o’clock to-morrow. And they will be here.\\nYou will be able to decide for yourself.’\\n‘And we’ll have a cup of tea,’ added his wife.\\n95‘All right, I’ll come,’ said Lizaveta, still pondering, and\\nshe began slowly moving away.\\nRaskolnikov had just passed and heard no more. He\\npassed softly, unnoticed, trying not to miss a word. His\\nfirst amazement was followed by a thrill of horror, like a\\nshiver running down his spine. He had learnt, he had sud-\\ndenly quite unexpectedly learnt, that the next day at seven\\no’clock Lizaveta, the old woman’s sister and only compan-\\nion, would be away from home and that therefore at seven\\no’clock precisely the old woman would be left alone.\\nHe was only a few steps from his lodging. He went in like\\na man condemned to death. He thought of nothing and was\\nincapable of thinking; but he felt suddenly in his whole be-\\ning that he had no more freedom of thought, no will, and\\nthat everything was suddenly and irrevocably decided.\\nCertainly, if he had to wait whole years for a suitable\\nopportunity, he could not reckon on a more certain step\\ntowards the success of the plan than that which had just\\npresented itself. In any case, it would have been difficult to\\nfind out beforehand and with certainty, with greater exact-\\nness and less risk, and without dangerous inquiries and\\ninvestigations, that next day at a certain time an old wom-\\nan, on whose life an attempt was contemplated, would be at\\nhome and entirely alone.\\nCrime and Punishment\\n96', metadata={'Header 1': 'Part I', 'Header 2': 'Chapter 5'})"
            ]
          },
          "metadata": {},
          "execution_count": 70
        }
      ],
      "source": [
        "splits[10]"
      ]
    },
    {
      "cell_type": "code",
      "execution_count": 71,
      "id": "21f9d67d",
      "metadata": {
        "colab": {
          "base_uri": "https://localhost:8080/"
        },
        "id": "21f9d67d",
        "outputId": "8c01f24f-7819-4b7d-c13e-a58974351125"
      },
      "outputs": [
        {
          "output_type": "execute_result",
          "data": {
            "text/plain": [
              "27411"
            ]
          },
          "metadata": {},
          "execution_count": 71
        }
      ],
      "source": [
        "len(splits[0].dict()[\"page_content\"])"
      ]
    },
    {
      "cell_type": "code",
      "execution_count": 72,
      "id": "7a6ac2ef",
      "metadata": {
        "colab": {
          "base_uri": "https://localhost:8080/"
        },
        "id": "7a6ac2ef",
        "outputId": "d7a4377b-e744-433e-ac64-d67e661ec4e2"
      },
      "outputs": [
        {
          "output_type": "execute_result",
          "data": {
            "text/plain": [
              "{'Header 1': 'Part IV', 'Header 2': 'Chapter 1'}"
            ]
          },
          "metadata": {},
          "execution_count": 72
        }
      ],
      "source": [
        "splits[0].dict()[\"metadata\"]"
      ]
    },
    {
      "cell_type": "markdown",
      "id": "9a12792d",
      "metadata": {
        "id": "9a12792d"
      },
      "source": [
        "# OpenAI API Setup"
      ]
    },
    {
      "cell_type": "code",
      "execution_count": 73,
      "id": "579d950a",
      "metadata": {
        "id": "579d950a"
      },
      "outputs": [],
      "source": [
        "import configparser\n",
        "import openai\n",
        "\n",
        "# Create a ConfigParser object\n",
        "config = configparser.ConfigParser()\n",
        "\n",
        "# Read the config.ini file\n",
        "config.read('config.ini')\n",
        "\n",
        "my_openai_key = config['openai']['OPENAI_API_KEY']\n",
        "openai.api_key = my_openai_key\n",
        "os.environ['OPENAI_API_KEY'] = my_openai_key"
      ]
    },
    {
      "cell_type": "markdown",
      "id": "8ddc885d",
      "metadata": {
        "id": "8ddc885d"
      },
      "source": [
        "# Prompt, LLM, Chain, Callback"
      ]
    },
    {
      "cell_type": "code",
      "execution_count": 74,
      "id": "21734c1c",
      "metadata": {
        "id": "21734c1c"
      },
      "outputs": [],
      "source": [
        "from langchain.chains.llm import LLMChain\n",
        "from langchain.prompts import PromptTemplate\n",
        "from langchain.chains.combine_documents.stuff import StuffDocumentsChain\n",
        "from langchain.callbacks import get_openai_callback\n",
        "from langchain.chat_models import ChatOpenAI\n",
        "\n",
        "\n",
        "# handler = StdOutCallbackHandler()\n",
        "\n",
        "\n",
        "# Define prompt\n",
        "prompt_template = \"\"\"Write a concise summary of the following:\n",
        "\"{text}\"\n",
        "CONCISE SUMMARY:\"\"\"\n",
        "prompt = PromptTemplate.from_template(prompt_template)\n",
        "\n",
        "# Define LLM chain\n",
        "llm = ChatOpenAI(temperature=0, model_name=\"gpt-4o\")\n",
        "llm_chain = LLMChain(llm=llm, prompt=prompt)\n",
        "\n",
        "# Define StuffDocumentsChain\n",
        "stuff_chain = StuffDocumentsChain(\n",
        "    llm_chain=llm_chain, document_variable_name=\"text\"\n",
        ")"
      ]
    },
    {
      "cell_type": "code",
      "execution_count": 75,
      "id": "a214b01d",
      "metadata": {
        "colab": {
          "base_uri": "https://localhost:8080/"
        },
        "id": "a214b01d",
        "outputId": "d710bd77-5f77-4fd7-bdba-18748657fba4"
      },
      "outputs": [
        {
          "output_type": "stream",
          "name": "stdout",
          "text": [
            "Tokens Used: 9185\n",
            "\tPrompt Tokens: 8928\n",
            "\tCompletion Tokens: 257\n",
            "Successful Requests: 1\n",
            "Total Cost (USD): $0.048495\n"
          ]
        }
      ],
      "source": [
        "with get_openai_callback() as cb:\n",
        "    stuff_chain.run([md_header_splits[0]])\n",
        "    print(cb)"
      ]
    },
    {
      "cell_type": "code",
      "execution_count": 76,
      "id": "92466f29",
      "metadata": {
        "colab": {
          "base_uri": "https://localhost:8080/"
        },
        "id": "92466f29",
        "outputId": "0ffc0c37-e101-46f5-b6b1-3dc88a1139e8"
      },
      "outputs": [
        {
          "output_type": "stream",
          "name": "stdout",
          "text": [
            "1\n",
            "Part IV\n",
            "Chapter 1\n",
            "Tokens Used: 7436\n",
            "\tPrompt Tokens: 7250\n",
            "\tCompletion Tokens: 186\n",
            "Successful Requests: 1\n",
            "Total Cost (USD): $0.03904\n",
            "2\n",
            "Part IV\n",
            "Chapter 2\n",
            "Tokens Used: 6970\n",
            "\tPrompt Tokens: 6805\n",
            "\tCompletion Tokens: 165\n",
            "Successful Requests: 1\n",
            "Total Cost (USD): $0.0365\n",
            "3\n",
            "Part IV\n",
            "Chapter 3\n",
            "Tokens Used: 4573\n",
            "\tPrompt Tokens: 4426\n",
            "\tCompletion Tokens: 147\n",
            "Successful Requests: 1\n",
            "Total Cost (USD): $0.024335\n",
            "4\n",
            "Part IV\n",
            "Chapter 4\n",
            "Tokens Used: 8931\n",
            "\tPrompt Tokens: 8787\n",
            "\tCompletion Tokens: 144\n",
            "Successful Requests: 1\n",
            "Total Cost (USD): $0.046095000000000004\n",
            "5\n",
            "Part IV\n",
            "Chapter 5\n",
            "Tokens Used: 10306\n",
            "\tPrompt Tokens: 10109\n",
            "\tCompletion Tokens: 197\n",
            "Successful Requests: 1\n",
            "Total Cost (USD): $0.0535\n",
            "6\n",
            "Part IV\n",
            "Chapter 6\n",
            "Tokens Used: 4264\n",
            "\tPrompt Tokens: 4101\n",
            "\tCompletion Tokens: 163\n",
            "Successful Requests: 1\n",
            "Total Cost (USD): $0.022949999999999998\n",
            "7\n",
            "Part I\n",
            "Chapter 1\n",
            "Tokens Used: 4764\n",
            "\tPrompt Tokens: 4574\n",
            "\tCompletion Tokens: 190\n",
            "Successful Requests: 1\n",
            "Total Cost (USD): $0.02572\n",
            "8\n",
            "Part I\n",
            "Chapter 2\n",
            "Tokens Used: 10475\n",
            "\tPrompt Tokens: 10303\n",
            "\tCompletion Tokens: 172\n",
            "Successful Requests: 1\n",
            "Total Cost (USD): $0.054095000000000004\n",
            "9\n",
            "Part I\n",
            "Chapter 3\n",
            "Tokens Used: 7824\n",
            "\tPrompt Tokens: 7622\n",
            "\tCompletion Tokens: 202\n",
            "Successful Requests: 1\n",
            "Total Cost (USD): $0.041139999999999996\n",
            "10\n",
            "Part I\n",
            "Chapter 4\n",
            "Tokens Used: 7377\n",
            "\tPrompt Tokens: 7199\n",
            "\tCompletion Tokens: 178\n",
            "Successful Requests: 1\n",
            "Total Cost (USD): $0.038665\n",
            "11\n",
            "Part I\n",
            "Chapter 5\n",
            "Tokens Used: 6052\n",
            "\tPrompt Tokens: 5895\n",
            "\tCompletion Tokens: 157\n",
            "Successful Requests: 1\n",
            "Total Cost (USD): $0.03183\n",
            "12\n",
            "Part I\n",
            "Chapter 6\n",
            "Tokens Used: 6998\n",
            "\tPrompt Tokens: 6780\n",
            "\tCompletion Tokens: 218\n",
            "Successful Requests: 1\n",
            "Total Cost (USD): $0.03717\n",
            "13\n",
            "Part I\n",
            "Chapter 7\n",
            "Tokens Used: 6763\n",
            "\tPrompt Tokens: 6600\n",
            "\tCompletion Tokens: 163\n",
            "Successful Requests: 1\n",
            "Total Cost (USD): $0.035445000000000004\n",
            "14\n",
            "Part VI\n",
            "Chapter 1\n",
            "Tokens Used: 5687\n",
            "\tPrompt Tokens: 5515\n",
            "\tCompletion Tokens: 172\n",
            "Successful Requests: 1\n",
            "Total Cost (USD): $0.030154999999999998\n",
            "15\n",
            "Part VI\n",
            "Chapter 2\n",
            "Tokens Used: 8100\n",
            "\tPrompt Tokens: 7926\n",
            "\tCompletion Tokens: 174\n",
            "Successful Requests: 1\n",
            "Total Cost (USD): $0.04224\n",
            "16\n",
            "Part VI\n",
            "Chapter 3\n",
            "Tokens Used: 5727\n",
            "\tPrompt Tokens: 5534\n",
            "\tCompletion Tokens: 193\n",
            "Successful Requests: 1\n",
            "Total Cost (USD): $0.030565000000000002\n",
            "17\n",
            "Part VI\n",
            "Chapter 4\n",
            "Tokens Used: 6473\n",
            "\tPrompt Tokens: 6267\n",
            "\tCompletion Tokens: 206\n",
            "Successful Requests: 1\n",
            "Total Cost (USD): $0.034425000000000004\n",
            "18\n",
            "Part VI\n",
            "Chapter 5\n",
            "Tokens Used: 8237\n",
            "\tPrompt Tokens: 8043\n",
            "\tCompletion Tokens: 194\n",
            "Successful Requests: 1\n",
            "Total Cost (USD): $0.043125\n",
            "19\n",
            "Part VI\n",
            "Chapter 6\n",
            "Tokens Used: 7794\n",
            "\tPrompt Tokens: 7655\n",
            "\tCompletion Tokens: 139\n",
            "Successful Requests: 1\n",
            "Total Cost (USD): $0.04036000000000001\n",
            "20\n",
            "Part VI\n",
            "Chapter 7\n",
            "Tokens Used: 5327\n",
            "\tPrompt Tokens: 5159\n",
            "\tCompletion Tokens: 168\n",
            "Successful Requests: 1\n",
            "Total Cost (USD): $0.028315\n",
            "21\n",
            "Part VI\n",
            "Chapter 8\n",
            "Tokens Used: 14301\n",
            "\tPrompt Tokens: 14148\n",
            "\tCompletion Tokens: 153\n",
            "Successful Requests: 1\n",
            "Total Cost (USD): $0.073035\n",
            "22\n",
            "Part III\n",
            "Chapter 1\n",
            "Tokens Used: 7873\n",
            "\tPrompt Tokens: 7693\n",
            "\tCompletion Tokens: 180\n",
            "Successful Requests: 1\n",
            "Total Cost (USD): $0.041165\n",
            "23\n",
            "Part III\n",
            "Chapter 2\n",
            "Tokens Used: 6729\n",
            "\tPrompt Tokens: 6546\n",
            "\tCompletion Tokens: 183\n",
            "Successful Requests: 1\n",
            "Total Cost (USD): $0.035475\n",
            "24\n",
            "Part III\n",
            "Chapter 3\n",
            "Tokens Used: 7720\n",
            "\tPrompt Tokens: 7531\n",
            "\tCompletion Tokens: 189\n",
            "Successful Requests: 1\n",
            "Total Cost (USD): $0.04049\n",
            "25\n",
            "Part III\n",
            "Chapter 4\n",
            "Tokens Used: 6555\n",
            "\tPrompt Tokens: 6363\n",
            "\tCompletion Tokens: 192\n",
            "Successful Requests: 1\n",
            "Total Cost (USD): $0.034695000000000004\n",
            "26\n",
            "Part III\n",
            "Chapter 5\n",
            "Tokens Used: 10458\n",
            "\tPrompt Tokens: 10293\n",
            "\tCompletion Tokens: 165\n",
            "Successful Requests: 1\n",
            "Total Cost (USD): $0.053939999999999995\n",
            "27\n",
            "Part III\n",
            "Chapter 6\n",
            "Tokens Used: 6271\n",
            "\tPrompt Tokens: 6066\n",
            "\tCompletion Tokens: 205\n",
            "Successful Requests: 1\n",
            "Total Cost (USD): $0.033405\n",
            "28\n",
            "Part II\n",
            "Chapter 1\n",
            "Tokens Used: 9766\n",
            "\tPrompt Tokens: 9630\n",
            "\tCompletion Tokens: 136\n",
            "Successful Requests: 1\n",
            "Total Cost (USD): $0.050190000000000005\n",
            "29\n",
            "Part II\n",
            "Chapter 2\n",
            "Tokens Used: 6011\n",
            "\tPrompt Tokens: 5857\n",
            "\tCompletion Tokens: 154\n",
            "Successful Requests: 1\n",
            "Total Cost (USD): $0.031595000000000005\n",
            "30\n",
            "Part II\n",
            "Chapter 3\n",
            "Tokens Used: 8098\n",
            "\tPrompt Tokens: 7837\n",
            "\tCompletion Tokens: 261\n",
            "Successful Requests: 1\n",
            "Total Cost (USD): $0.0431\n",
            "31\n",
            "Part II\n",
            "Chapter 4\n",
            "Tokens Used: 6169\n",
            "\tPrompt Tokens: 6034\n",
            "\tCompletion Tokens: 135\n",
            "Successful Requests: 1\n",
            "Total Cost (USD): $0.032195\n",
            "32\n",
            "Part II\n",
            "Chapter 5\n",
            "Tokens Used: 6249\n",
            "\tPrompt Tokens: 6053\n",
            "\tCompletion Tokens: 196\n",
            "Successful Requests: 1\n",
            "Total Cost (USD): $0.033205\n",
            "33\n",
            "Part II\n",
            "Chapter 6\n",
            "Tokens Used: 11164\n",
            "\tPrompt Tokens: 10970\n",
            "\tCompletion Tokens: 194\n",
            "Successful Requests: 1\n",
            "Total Cost (USD): $0.057760000000000006\n",
            "34\n",
            "Part II\n",
            "Chapter 7\n",
            "Tokens Used: 10295\n",
            "\tPrompt Tokens: 10108\n",
            "\tCompletion Tokens: 187\n",
            "Successful Requests: 1\n",
            "Total Cost (USD): $0.053345000000000004\n",
            "35\n",
            "Part V\n",
            "Chapter 1\n",
            "Tokens Used: 9131\n",
            "\tPrompt Tokens: 8928\n",
            "\tCompletion Tokens: 203\n",
            "Successful Requests: 1\n",
            "Total Cost (USD): $0.047685000000000005\n",
            "36\n",
            "Part V\n",
            "Chapter 2\n",
            "Tokens Used: 7350\n",
            "\tPrompt Tokens: 7177\n",
            "\tCompletion Tokens: 173\n",
            "Successful Requests: 1\n",
            "Total Cost (USD): $0.03848\n",
            "37\n",
            "Part V\n",
            "Chapter 3\n",
            "Tokens Used: 8374\n",
            "\tPrompt Tokens: 8195\n",
            "\tCompletion Tokens: 179\n",
            "Successful Requests: 1\n",
            "Total Cost (USD): $0.043660000000000004\n",
            "38\n",
            "Part V\n",
            "Chapter 4\n",
            "Tokens Used: 9393\n",
            "\tPrompt Tokens: 9253\n",
            "\tCompletion Tokens: 140\n",
            "Successful Requests: 1\n",
            "Total Cost (USD): $0.048365\n",
            "39\n",
            "Part V\n",
            "Chapter 5\n",
            "Tokens Used: 7709\n",
            "\tPrompt Tokens: 7549\n",
            "\tCompletion Tokens: 160\n",
            "Successful Requests: 1\n",
            "Total Cost (USD): $0.040145\n"
          ]
        }
      ],
      "source": [
        "summarize_document = {}\n",
        "\n",
        "def insert_summary(part_no, chapter_no, summary):\n",
        "    if part_no not in summarize_document:\n",
        "        summarize_document[part_no] = {}\n",
        "    summarize_document[part_no][chapter_no] = summary\n",
        "\n",
        "count = 1\n",
        "cost = 0\n",
        "\n",
        "for split_doc in splits:\n",
        "    with get_openai_callback() as cb:\n",
        "        print(count)\n",
        "        print(split_doc.dict()[\"metadata\"]['Header 1'])\n",
        "        print(split_doc.dict()[\"metadata\"]['Header 2'])\n",
        "        partNo = split_doc.dict()[\"metadata\"]['Header 1']\n",
        "        chapterNo = split_doc.dict()[\"metadata\"]['Header 2']\n",
        "        summary = stuff_chain.run([split_doc])\n",
        "        print(cb)\n",
        "        cost += cb.total_cost\n",
        "\n",
        "        insert_summary(partNo, chapterNo, summary)\n",
        "\n",
        "    count += 1\n",
        "#     break"
      ]
    },
    {
      "cell_type": "code",
      "execution_count": 77,
      "id": "3eabeb26",
      "metadata": {
        "colab": {
          "base_uri": "https://localhost:8080/"
        },
        "id": "3eabeb26",
        "outputId": "dd15db11-8e60-49e1-af0e-a075a06290ae"
      },
      "outputs": [
        {
          "output_type": "stream",
          "name": "stdout",
          "text": [
            "Part V\n",
            "Tokens Used: 7683\n",
            "\tPrompt Tokens: 7549\n",
            "\tCompletion Tokens: 134\n",
            "Successful Requests: 1\n",
            "Total Cost (USD): $0.039755\n"
          ]
        }
      ],
      "source": [
        "with get_openai_callback() as cb:\n",
        "        print(splits[-1].dict()[\"metadata\"]['Header 1'])\n",
        "        partNo = splits[-1].dict()[\"metadata\"]['Header 1']\n",
        "        summary = stuff_chain.run([splits[-1]])\n",
        "        print(cb)\n",
        "        cost += cb.total_cost\n",
        "\n",
        "        insert_summary(partNo, \" \", summary)"
      ]
    },
    {
      "cell_type": "code",
      "execution_count": 78,
      "id": "de732ba8",
      "metadata": {
        "colab": {
          "base_uri": "https://localhost:8080/"
        },
        "id": "de732ba8",
        "outputId": "90ffe64f-bcd5-47d3-babf-bc58838f1d55"
      },
      "outputs": [
        {
          "output_type": "stream",
          "name": "stdout",
          "text": [
            "Total Cost (USD): $1.6073549999999999\n"
          ]
        }
      ],
      "source": [
        "print(f\"Total Cost (USD): ${cost}\")"
      ]
    },
    {
      "cell_type": "markdown",
      "id": "eb248785",
      "metadata": {
        "id": "eb248785"
      },
      "source": [
        "# Summarized Document (Dictionary)"
      ]
    },
    {
      "cell_type": "code",
      "execution_count": 42,
      "id": "62d4f306",
      "metadata": {
        "colab": {
          "base_uri": "https://localhost:8080/"
        },
        "id": "62d4f306",
        "outputId": "25ed3821-5705-4397-ee81-937e9919ba82"
      },
      "outputs": [
        {
          "output_type": "execute_result",
          "data": {
            "text/plain": [
              "{'Part IV': {'Chapter 1': \"Raskolnikov is visited by Svidrigaïlov, who expresses a desire to make his acquaintance and seek his assistance regarding Raskolnikov's sister, Avdotya Romanovna. Svidrigaïlov, who has a dubious past, including the suspicious death of his wife Marfa Petrovna, proposes to give Avdotya ten thousand roubles to help her break off her engagement with Mr. Luzhin, whom Svidrigaïlov deems unsuitable. Raskolnikov is skeptical and hostile, suspecting ulterior motives. Svidrigaïlov also shares eerie experiences of seeing his deceased wife’s ghost, which Raskolnikov dismisses as madness. Despite Raskolnikov's refusal to help, Svidrigaïlov insists on his intentions and reveals that Marfa Petrovna left Avdotya three thousand roubles in her will. The conversation ends with Svidrigaïlov leaving, hinting at further intentions to see Avdotya.\",\n",
              "  'Chapter 2': 'In this passage from \"Crime and Punishment,\" Raskolnikov and Razumihin hurry to Bakaleyev’s to meet Luzhin. On the way, Raskolnikov reveals his fear of Svidrigaïlov, the man who had previously harassed his sister, Dounia. They discuss the strange behavior of Svidrigaïlov and the need to protect Dounia from him. Upon arriving, they encounter Luzhin, who is there to discuss important matters with Dounia and her mother, Pulcheria Alexandrovna. Tensions rise as Luzhin feels slighted by Raskolnikov and demands an explanation for perceived insults. Dounia insists on resolving the conflict, stating that her future depends on it. Luzhin becomes increasingly irate, especially when Raskolnikov reveals that Svidrigaïlov has visited him and has a proposal for Dounia. The situation escalates, leading to a heated argument where Dounia ultimately rejects Luzhin, who leaves in a fit of anger, vowing never to return.',\n",
              "  'Chapter 3': \"Pyotr Petrovitch, a conceited and self-admiring man, is shocked when Dounia, whom he considered helpless and indebted to him, rejects his control. He had envisioned her as a submissive wife who would elevate his social status. Despite his manipulative intentions, Dounia and her family are relieved to be free from him. Razumihin, a friend, proposes a business venture to support them, which excites Dounia. Meanwhile, Raskolnikov, Dounia's brother, insists on distancing himself from his family, citing his need for solitude and inner turmoil. Razumihin promises to care for Dounia and her mother, stepping into a supportive role.\",\n",
              "  'Chapter 4': \"Raskolnikov visits Sonia in her impoverished room, which she rents from the Kapernaumovs. He finds her agitated and frightened by his unexpected visit. They discuss her dire living conditions, her family's struggles, and her deep faith in God. Raskolnikov, tormented by his own guilt and despair, questions Sonia's faith and the purpose of her suffering. He insists she read the story of Lazarus from the Bible, which she does with great emotion. Raskolnikov reveals he has abandoned his family and suggests they face their cursed fates together. He hints at knowing who killed Lizaveta, leaving Sonia in a state of shock and confusion. Unbeknownst to them, Svidrigaïlov eavesdrops on their entire conversation, finding it intriguing.\",\n",
              "  'Chapter 5': \"Raskolnikov arrives punctually at the investigation department to meet Porfiry Petrovitch but is kept waiting, which makes him anxious and suspicious. When he finally meets Porfiry, the atmosphere is tense and filled with psychological maneuvering. Porfiry engages in seemingly trivial and irrelevant conversation, which Raskolnikov perceives as a tactic to unsettle him. Despite Raskolnikov's attempts to maintain composure, he becomes increasingly agitated and confrontational, accusing Porfiry of trying to manipulate and provoke him. Porfiry, in turn, alternates between friendly banter and subtle insinuations, hinting that he knows more about Raskolnikov's involvement in the murders than he lets on. The interaction culminates in a heated exchange where Raskolnikov demands clarity on whether he is a suspect, leading to a dramatic and unexpected conclusion.\",\n",
              "  'Chapter 6': 'In this scene from \"Crime and Punishment,\" Raskolnikov witnesses a dramatic interruption during an interrogation by Porfiry Petrovitch. The prisoner Nikolay is forcibly brought in and confesses to the murders of Alyona and Lizaveta Ivanovna, claiming he acted alone. Porfiry is skeptical and frustrated, suspecting Nikolay\\'s confession is not genuine. Raskolnikov, initially shaken, regains some composure and leaves, only to be followed by Porfiry, who hints at further questioning. Later, Raskolnikov encounters a man who confesses to having wronged him by reporting his suspicious behavior to Porfiry. This revelation reassures Raskolnikov, who resolves to fight against the suspicions surrounding him.'},\n",
              " 'Part I': {'Chapter 1': 'On a sweltering July evening, a young man named Raskolnikov leaves his cramped garret in S. Place and heads towards K. bridge, carefully avoiding his landlady due to his overwhelming debt and fear of confrontation. He is deeply absorbed in his own thoughts, struggling with poverty and a sense of isolation that has led him to a state of near-hypochondria. As he walks through the stifling streets of Petersburg, he becomes increasingly agitated and introspective, contemplating a vague, daring plan. He arrives at a large, dilapidated house and visits an old pawnbroker, Alyona Ivanovna, to pawn a watch. The interaction is tense and leaves Raskolnikov feeling disgusted and conflicted. After leaving, he is overcome with loathing for his thoughts and actions, and in a state of distress, he enters a tavern to drink beer, hoping to clear his mind. The tavern is nearly empty, and as he drinks, he momentarily feels a sense of relief, though he remains aware that his improved mood might be fleeting.',\n",
              "  'Chapter 2': \"Raskolnikov, unaccustomed to crowds and recently avoiding society, finds himself in a tavern seeking company. There, he encounters Marmeladov, a disheveled, drunken former clerk who shares his tragic life story. Marmeladov speaks of his educated but destitute wife, Katerina Ivanovna, and their dire poverty. He recounts how his daughter, Sonia, turned to prostitution to support the family. Despite his own failings and alcoholism, Marmeladov expresses deep love and guilt for his family. Raskolnikov, moved by the tale, helps Marmeladov home, where they witness the family's suffering. The scene highlights themes of despair, poverty, and the human capacity for both degradation and compassion.\",\n",
              "  'Chapter 3': \"Raskolnikov wakes up in his squalid, cramped room feeling irritable and unrefreshed. His living conditions are dire, with peeling wallpaper, dusty furniture, and a sofa serving as his bed. He is isolated and avoids interaction, even with the servant girl, Nastasya, who brings him tea and soup. Nastasya informs him that his landlady plans to report him to the police for unpaid rent. Raskolnikov receives a letter from his mother, Pulcheria, detailing the hardships his sister Dounia faced while working for the Svidrigailovs, including harassment from Mr. Svidrigailov. Dounia's reputation is eventually restored, and she becomes engaged to Pyotr Petrovitch Luzhin, a well-off but somewhat conceited man. Pulcheria expresses hope that Luzhin will help Raskolnikov with his career and studies. The letter deeply affects Raskolnikov, leaving him emotional and agitated. He leaves his room, seeking space and clarity, wandering the streets in a disturbed state.\",\n",
              "  'Chapter 4': \"Raskolnikov, the protagonist, is tormented by a letter from his mother revealing his sister Dounia's impending marriage to Mr. Luzhin, a wealthy but unkind man. Raskolnikov vehemently opposes the marriage, believing Dounia is sacrificing herself for his benefit. He reflects bitterly on their financial struggles and the manipulative nature of Luzhin. Distraught, he wanders the streets and encounters a drunken young girl being pursued by a predatory man. Raskolnikov intervenes, involving a policeman, but ultimately questions his right to help. His thoughts shift to his old university friend Razumihin, highlighting his isolation and internal conflict.\",\n",
              "  'Chapter 5': \"Raskolnikov contemplates seeking help from his friend Razumihin for work but dismisses the idea as futile. Agitated and feverish, he wanders aimlessly through the city, eventually falling asleep and having a vivid, disturbing dream about a horse being brutally beaten to death. Upon waking, he is horrified by the dream and his own thoughts of committing a murder. As he walks through the Hay Market, he overhears a conversation revealing that Lizaveta, the sister of the old pawnbroker Alyona Ivanovna, will be away the next evening, leaving Alyona alone. This information solidifies Raskolnikov's resolve to carry out his plan to murder Alyona, feeling that his fate is now sealed.\",\n",
              "  'Chapter 6': \"Raskolnikov learns that Lizaveta was invited by a huckster and his wife to appraise and buy household goods from a destitute family, a common task for her due to her honesty. Raskolnikov, increasingly superstitious, recalls how he first learned about the pawnbroker Alyona Ivanovna from a student named Pokorev. After pawning a ring to Alyona, he overhears a student in a tavern discussing her wealth and cruelty, and the student's hypothetical justification for killing her to use her money for good deeds. This conversation profoundly impacts Raskolnikov, aligning with his own emerging thoughts of murder. He meticulously prepares for the crime, sewing a noose in his coat to conceal an axe. Despite initial setbacks, including nearly being caught by a maid, he manages to steal an axe and approaches Alyona's apartment. Overcome with anxiety but determined, he rings her doorbell, hearing her cautious movements inside before she finally opens the door.\",\n",
              "  'Chapter 7': \"Raskolnikov, the protagonist, visits the old pawnbroker Alyona Ivanovna with the intention of committing a premeditated murder. He gains entry to her apartment under the pretense of pawning a cigarette case. Once inside, he becomes increasingly anxious and, fearing discovery, hastily attacks Alyona with an axe, killing her. As he searches for valuables, Alyona's half-sister, Lizaveta, unexpectedly arrives. In a panic, Raskolnikov kills her as well. Overcome with fear and loathing for his actions, he hurriedly cleans the axe and his hands, then narrowly escapes detection by hiding in an empty flat as two men approach the scene. He eventually makes his way back to his room, where he collapses in a state of mental and physical exhaustion.\"},\n",
              " 'Part VI': {'Chapter 1': \"Raskolnikov experiences a period of mental fog and isolation, marked by confusion and panic, following the death of Katerina Ivanovna. He is haunted by thoughts of Svidrigaïlov, who has made arrangements for Katerina's children and hinted at a need for a serious conversation. Raskolnikov's interactions with others, including Sonia and Razumihin, reveal his inner turmoil and the strain on his relationships. Razumihin suspects Raskolnikov of being involved in political conspiracies and is troubled by his erratic behavior. Meanwhile, Raskolnikov is tormented by his conscience and the need to confront Svidrigaïlov and Porfiry. The narrative culminates in an unexpected visit from Porfiry, leaving Raskolnikov on edge but strangely composed, ready to face whatever comes next.\",\n",
              "  'Chapter 2': 'In this passage from \"Crime and Punishment,\" Porfiry Petrovitch, a detective, engages in a psychological confrontation with Raskolnikov, the protagonist. Porfiry discusses his addiction to cigarettes and his health issues, then shifts to recounting his previous interactions with Raskolnikov, hinting at his suspicions and investigative methods. He reveals his belief that Raskolnikov is the murderer, despite Raskolnikov\\'s denials. Porfiry suggests that Raskolnikov should confess, arguing it would be in his best interest and might lead to a reduced sentence. The conversation oscillates between Porfiry\\'s sympathetic understanding and his firm conviction of Raskolnikov\\'s guilt, ultimately urging Raskolnikov to face his actions and seek redemption through suffering.',\n",
              "  'Chapter 3': \"Raskolnikov, feeling a compulsion to confront Svidrigaïlov, hurries to meet him, driven by an inexplicable power the man holds over him. On his way, Raskolnikov is plagued by the thought of whether Svidrigaïlov has been to see Porfiry, the investigator. He is also tormented by the fear that Svidrigaïlov might use his knowledge of Raskolnikov's secret against his sister, Dounia. Upon finding Svidrigaïlov in a tavern, Raskolnikov confronts him, expressing his readiness to kill him if he threatens Dounia. Svidrigaïlov, who appears nonchalant and slightly inebriated, engages in a candid conversation, revealing his hedonistic lifestyle and his fear of death. Despite Raskolnikov's disdain, Svidrigaïlov insists on sharing a story about Dounia, hinting at a deeper connection and respect for her.\",\n",
              "  'Chapter 4': \"Svidrigaïlov recounts his tumultuous relationship with his late wife, Marfa Petrovna, who bailed him out of debtors' prison and entered into a complex marital contract with him. Despite his infidelities, Marfa tolerated his behavior under certain conditions. Svidrigaïlov reveals his manipulative nature, describing his attempts to seduce Raskolnikov's sister, Avdotya Romanovna, and his engagement to a young girl. He admits to using flattery and deceit to achieve his desires. Raskolnikov becomes increasingly suspicious of Svidrigaïlov's intentions, especially regarding his sister. The conversation ends with Svidrigaïlov leaving the restaurant, and Raskolnikov deciding to follow him, wary of his motives.\",\n",
              "  'Chapter 5': \"Raskolnikov confronts Svidrigaïlov, suspecting him of pursuing his sister, Dounia. Svidrigaïlov dismisses the accusation and reveals he has been helping Sofya Semyonovna and her family. Despite Raskolnikov's suspicions, he leaves, but Dounia later encounters Svidrigaïlov, who manipulates her into coming to his apartment. There, he reveals Raskolnikov's confession of murder to Sofya. Dounia, armed with a revolver, threatens Svidrigaïlov but fails to shoot him. Svidrigaïlov, realizing Dounia does not love him, releases her. He then contemplates his actions, showing signs of despair and inner turmoil.\",\n",
              "  'Chapter 6': \"Svidrigaïlov spends an evening indulging in various lowly entertainments, treating people and visiting a pleasure garden. He later visits Sonia, gives her money for her and her siblings, and hints at Raskolnikov's grim future. He then visits his fiancée's parents, gives them a large sum of money, and leaves abruptly. Svidrigaïlov checks into a shabby hotel, experiences disturbing dreams, and wakes up feeling feverish. He decides to leave, encounters a neglected child, and eventually heads out into the misty morning. He contemplates his actions and fate, ultimately deciding to end his life. He encounters a guard, exchanges a few words, and then shoots himself.\",\n",
              "  'Chapter 7': \"Raskolnikov, in a state of inner turmoil and exhaustion, visits his mother, Pulcheria Alexandrovna, at her lodging. Despite his disheveled appearance and the emotional strain he's under, he is determined to see her. Pulcheria is overjoyed to see her son but senses his distress. Raskolnikov reassures her of his love and asks for her prayers, hinting at his impending departure and the suffering he anticipates. He then visits his sister, Dounia, who is deeply worried about him. Raskolnikov confesses his struggles and his decision to face the consequences of his actions, expressing a mix of pride and despair. Despite his inner conflict, he resolves to give himself up, driven by a complex blend of guilt, pride, and a desire for redemption. The chapter ends with Raskolnikov's departure, leaving his family in anguish and himself contemplating the harsh future that awaits him.\",\n",
              "  'Chapter 8': \"Raskolnikov visits Sonia, who has been anxiously waiting for him with Dounia. Both women fear he might commit suicide. When he arrives, he asks Sonia for a cross and speaks incoherently, revealing his plan to confess to the murders. He leaves abruptly, forgetting to say goodbye to Sonia, and heads to the police station. There, he confesses to the murders of the pawnbroker and her sister. Raskolnikov is sentenced to eight years of penal servitude in Siberia. His mother falls ill and dies, while Dounia marries Razumihin. Sonia follows Raskolnikov to Siberia, where he initially remains aloof and unrepentant. Over time, he begins to feel a deep connection with Sonia, leading to a moment of emotional reconciliation. The story ends with the promise of Raskolnikov's gradual moral and spiritual regeneration.\"},\n",
              " 'Part III': {'Chapter 1': \"Raskolnikov, in a fragile state, asks his mother Pulcheria Alexandrovna and sister Avdotya Romanovna (Dounia) to leave with Razumihin, expressing his disdain for Dounia's engagement to Luzhin. Despite their concern, they reluctantly agree, with Razumihin promising to stay with Raskolnikov and bring updates. Razumihin, though drunk, passionately defends his actions and intentions, impressing the women with his sincerity. He later fetches Dr. Zossimov, who reassures them about Raskolnikov's condition. Razumihin's infatuation with Dounia becomes evident, and he discusses his complicated feelings and the situation with his landlady, seeking Zossimov's help. The scene highlights Razumihin's loyalty and the family's deep concern for Raskolnikov's well-being.\",\n",
              "  'Chapter 2': \"Razumihin wakes up troubled by the events of the previous day, feeling ashamed of his drunken behavior and his inappropriate criticism of Avdotya Romanovna's fiancé. He resolves to face his responsibilities silently and dresses carefully to meet her and her mother. Upon arriving, he is warmly received, which confuses him. They discuss Raskolnikov's erratic behavior and the troubling letter from Luzhin, who demands that Raskolnikov not be present at their meeting. Despite their concerns, they decide to visit Raskolnikov, with Razumihin advising them on how to approach him. The chapter ends with the group arriving at Raskolnikov's lodgings, where they are met with a suspicious landlady.\",\n",
              "  'Chapter 3': \"Raskolnikov, now appearing healthier but still visibly distressed, is visited by his mother Pulcheria Alexandrovna, sister Dounia, and friends Zossimov and Razumihin. Despite his improved physical state, Raskolnikov remains emotionally troubled and detached. Zossimov, the doctor, discusses Raskolnikov's recovery and suggests that his mental state is linked to his lack of occupation. Raskolnikov's interactions with his family are strained, marked by a mix of affection and underlying tension. He expresses skepticism about Dounia's engagement to Luzhin, suspecting her motives and questioning Luzhin's character. The conversation reveals Raskolnikov's inner turmoil and the complex dynamics within the family, culminating in a decision to confront Luzhin together, despite his request for Raskolnikov's absence.\",\n",
              "  'Chapter 4': \"Sofya Semyonovna Marmeladov, a modest and timid young girl, unexpectedly enters a room full of people, including Raskolnikov, who initially does not recognize her. She is there to deliver a message from Katerina Ivanovna, requesting Raskolnikov's presence at a funeral service. Despite her shyness and poor attire, Raskolnikov feels a sudden pang of sympathy for her. During the conversation, Raskolnikov introduces her to his mother and sister, who scrutinize her with mixed feelings. After some awkward exchanges, Raskolnikov and his friend Razumihin decide to visit Porfiry Petrovitch regarding some pawned items. Meanwhile, an unknown gentleman follows Sonia to her lodging, observing her closely. The scene ends with Raskolnikov and Razumihin arriving at Porfiry's place, with Raskolnikov feeling anxious about the upcoming interaction.\",\n",
              "  'Chapter 5': \"Raskolnikov and Razumihin visit Porfiry Petrovitch, where Raskolnikov struggles to suppress his laughter at Razumihin's awkwardness. Porfiry, a jovial and somewhat ironic investigator, engages Raskolnikov in a conversation that subtly probes his psychological state and his views on crime, particularly focusing on an article Raskolnikov wrote about extraordinary individuals having the right to transgress laws for the greater good. The discussion becomes tense as Porfiry and Zametov, another official present, hint at their suspicions about Raskolnikov's involvement in a recent murder. Raskolnikov tries to maintain his composure but is internally agitated, suspecting that they are toying with him. The meeting ends with Porfiry inviting Raskolnikov to visit again, leaving Raskolnikov deeply unsettled and suspicious of their intentions.\",\n",
              "  'Chapter 6': \"Razumihin and Raskolnikov engage in a heated discussion about the suspicions surrounding Raskolnikov, particularly focusing on the behavior of Porfiry and Zametov. Razumihin is perplexed and tries to refute Raskolnikov's arguments, but Raskolnikov remains cold and dismissive. As they approach Bakaleyev’s lodgings, Raskolnikov becomes increasingly agitated and eventually leaves Razumihin to go alone, promising to return shortly. Raskolnikov, in a state of paranoia, rushes home to check if any evidence of his crime has been left behind. He encounters a mysterious man who accuses him of being a murderer, which deeply unsettles him. Raskolnikov returns to his room, overwhelmed by feverish thoughts and guilt. He experiences a disturbing dream where he repeatedly strikes the old woman he murdered, only to find her laughing at him. Upon waking, he finds a stranger, Arkady Ivanovitch Svidrigaïlov, watching him intently, who then introduces himself.\"},\n",
              " 'Part II': {'Chapter 1': \"Raskolnikov, the protagonist, wakes up disoriented and feverish, realizing he has overslept and it's past two o'clock. He is haunted by the memory of a crime he committed, and in a panic, he checks his clothes for bloodstains and hides the stolen items. He is interrupted by a knock at the door and receives a summons to the police station. At the station, he is initially terrified, thinking he has been caught, but it turns out to be a routine matter about an unpaid debt. Relieved but still paranoid, he overhears a conversation about the investigation of the crime he committed, which heightens his anxiety. He faints but recovers quickly, answers some questions, and leaves, convinced that the police suspect him and fearing an imminent search of his home.\",\n",
              "  'Chapter 2': 'Raskolnikov, the protagonist, returns to his room in a state of panic, fearing discovery of hidden stolen items. He retrieves and pockets them, planning to dispose of them in the canal. However, he finds it difficult due to the presence of people. He then decides to hide the items under a stone in a deserted courtyard. Feeling a brief sense of relief, he wanders the streets, grappling with intense emotions and self-loathing. He visits his friend Razumihin but abruptly leaves, rejecting his help. Raskolnikov experiences a series of disorienting events, including being mistaken for a beggar and receiving alms. He returns home exhausted and falls asleep, only to be awakened by a terrifying commotion involving his landlady, which he later learns was a hallucination caused by his deteriorating mental state. Nastasya, a servant, brings him food and water, confirming that no one had been beaten, attributing his experience to his illness.',\n",
              "  'Chapter 3': \"Raskolnikov, in a feverish and delirious state, experiences moments of consciousness where he perceives people around him, including Nastasya and an unidentified familiar person. He struggles with fragmented memories and a sense of something forgotten, causing him distress. Upon regaining full consciousness, he finds Nastasya and a stranger, a messenger, in his room. Razumihin, his friend, arrives and informs him about his condition and the care he received. The messenger delivers 35 roubles from Raskolnikov's mother. Despite initial resistance, Raskolnikov signs for the money. Razumihin, who has been looking after him, brings food and updates him on recent events, including securing an I.O.U. from a business man named Tchebarov. Razumihin also brings new clothes for Raskolnikov, bought with money sent by his mother. Raskolnikov, still disoriented, contemplates escaping but eventually falls into a deep sleep. He wakes up to find Razumihin and a familiar tall, stout man entering the room.\",\n",
              "  'Chapter 4': \"Zossimov, a tall, fat, and fashionable 27-year-old doctor, visits Raskolnikov, who is recovering from an illness. Razumihin, Raskolnikov's friend, updates Zossimov on Raskolnikov's condition. They discuss a recent murder case involving a painter named Nikolay, who was found with earrings from the crime scene. Despite Nikolay's confession and suspicious behavior, Razumihin argues that the evidence against him is circumstantial and that the real murderer likely escaped unnoticed. The conversation is interrupted by the arrival of an unknown person.\",\n",
              "  'Chapter 5': \"A stiff, portly gentleman with a sour demeanor visits Raskolnikov's cramped and dirty room, expressing astonishment and mistrust. He scrutinizes Raskolnikov and his friend Razumihin before addressing Zossimov, the doctor, about Raskolnikov's identity. The visitor, Pyotr Petrovitch Luzhin, introduces himself as Raskolnikov's sister's fiancé, but Raskolnikov reacts with hostility and confusion. Luzhin, dressed in new, stylish clothes, tries to discuss progressive ideas and economic theories, but Razumihin and Raskolnikov challenge and insult him. The conversation becomes tense, culminating in Raskolnikov threatening Luzhin, who leaves in a huff. Raskolnikov, agitated and wanting to be alone, is left to his troubled thoughts as his friends discuss his mental state and the impact of recent events on his health.\",\n",
              "  'Chapter 6': \"Raskolnikov, the protagonist, experiences a sudden calm and determination after a period of delirium and fear. He dresses in new clothes, takes some money, and leaves his apartment unnoticed. Wandering the streets aimlessly, he encounters various people and scenes, including a street singer and a crowd of peasants. He feels a strong urge to change his life immediately but is unsure how. He ends up in a restaurant, where he has a tense conversation with Zametov, a police clerk, hinting at his involvement in a recent murder. Raskolnikov's erratic behavior continues as he revisits the crime scene, interacts with workmen, and contemplates going to the police station. His mental state fluctuates between apathy and a desperate need for resolution. The chapter ends with him deciding to go to the police station, feeling that his ordeal will soon be over.\",\n",
              "  'Chapter 7': \"An elegant carriage with spirited grey horses stands in the road, causing a commotion as a man, Marmeladov, lies unconscious and bloodied after being run over. Raskolnikov, recognizing him, insists on taking him to his nearby home rather than the hospital, offering to pay for a doctor. At Marmeladov's home, his wife Katerina Ivanovna, already struggling with poverty and illness, is distraught. Despite efforts to help, Marmeladov dies in his daughter Sonia's arms. Raskolnikov offers financial assistance to the grieving family and leaves, feeling a renewed sense of life and strength. He encounters his mother and sister unexpectedly at his apartment, faints from the shock, but is reassured by his friend Razumihin.\"},\n",
              " 'Part V': {'Chapter 1': \"The morning after a distressing interview with Dounia and her mother, Pyotr Petrovitch grapples with the reality of his situation, feeling the sting of wounded vanity. Despite his initial hope of finding a better bride, he faces a series of frustrations, including legal troubles and financial losses related to his canceled marriage plans. His irritation is compounded by his young friend, Andrey Semyonovitch Lebeziatnikov, whose progressive ideas and perceived foolishness annoy him. Petrovitch's disdain for Lebeziatnikov grows, though he still seeks his help in understanding the influence of progressive circles in Petersburg. Petrovitch's day worsens as he deals with the aftermath of his broken engagement and the preparations for a funeral dinner. He contemplates his missteps and regrets not being more generous to Dounia's family. Despite his frustrations, he attempts to assist Katerina Ivanovna's family financially, though his motives and methods are questioned. The narrative highlights Petrovitch's internal conflicts, his manipulative tendencies, and his interactions with those around him, revealing his complex character and the social dynamics at play.\",\n",
              "  'Chapter 2': \"Katerina Ivanovna, driven by a mix of pride, social pressure, and mental strain, organizes an extravagant memorial dinner for her deceased husband using a significant portion of the money given by Raskolnikov for the funeral. Despite her efforts, the event is marred by the poor quality of the food and drink, the unseemly behavior of the guests, and the absence of more respectable invitees. Katerina's volatile temperament and heightened pride lead to tensions, particularly with the landlady, Amalia Ivanovna, who had helped with the preparations but becomes a target of Katerina's scorn. The dinner descends into chaos with insults and accusations flying, culminating in a near-physical altercation just as Pyotr Petrovitch Luzhin arrives.\",\n",
              "  'Chapter 3': 'In this passage from \"Crime and Punishment,\" Katerina Ivanovna pleads with Pyotr Petrovitch to protect her and her family, but he dismisses her and accuses her stepdaughter, Sonia, of stealing a hundred-rouble note. Despite Sonia\\'s denial and Katerina\\'s defense, Pyotr Petrovitch insists on his accusation, leading to a chaotic scene. Lebeziatnikov, a witness, reveals that he saw Pyotr Petrovitch plant the note in Sonia\\'s pocket, exposing his deceit. Raskolnikov supports this claim, explaining that Pyotr Petrovitch\\'s actions were motivated by a desire for revenge and to discredit Raskolnikov in front of his family. The crowd turns against Pyotr Petrovitch, who leaves in disgrace. The incident leaves Sonia devastated, and Katerina Ivanovna, in a state of despair, rushes out to seek justice, while the lodgers react with confusion and disorder.',\n",
              "  'Chapter 4': \"Raskolnikov, despite his own torment, defends Sonia against Luzhin and feels a mix of relief and dread as he prepares to confess to her about killing Lizaveta. When he arrives at Sonia's, he hesitates but ultimately reveals his crime. Sonia reacts with distress but remains supportive, expressing her willingness to follow him even to Siberia. Raskolnikov grapples with his motives, admitting he sought to test his own limits rather than out of necessity. Sonia urges him to seek redemption through confession and suffering, but Raskolnikov is conflicted about surrendering to the authorities. Their conversation is interrupted by a knock at the door from Mr. Lebeziatnikov.\",\n",
              "  'Chapter 5': \"Lebeziatnikov informs Sonia and Raskolnikov that Katerina Ivanovna has gone mad, leading Sonia to rush out in distress. Katerina, in a state of delirium, is found making her children perform in the streets to beg for money. Despite attempts to calm her, she collapses and is taken to Sonia's room, where she dies from her illness. Raskolnikov feels a deep sense of isolation and guilt. Svidrigaïlov offers to take care of Katerina's children and help Sonia, revealing he has been eavesdropping on Raskolnikov. The scene underscores themes of despair, madness, and unexpected acts of kindness amidst suffering.\",\n",
              "  ' ': \"Lebeziatnikov informs Sonia and Raskolnikov that Katerina Ivanovna has gone mad, leading Sonia to rush out to find her. Katerina, in a state of delirium, is forcing her children to perform in the streets to earn money, attracting a crowd and the attention of a policeman. Despite efforts to calm her, Katerina collapses and is taken to Sonia's room, where she dies from her illness. Raskolnikov feels a deep sense of isolation and guilt. Svidrigaïlov offers to take care of Katerina's children and Sonia, revealing he has been eavesdropping on Raskolnikov, which unsettles him deeply.\"}}"
            ]
          },
          "metadata": {},
          "execution_count": 42
        }
      ],
      "source": [
        "summarize_document"
      ]
    },
    {
      "cell_type": "code",
      "execution_count": 43,
      "id": "5751bd69",
      "metadata": {
        "colab": {
          "base_uri": "https://localhost:8080/"
        },
        "id": "5751bd69",
        "outputId": "0d2993a5-e29c-46f7-b5b6-5f21e0ea619f"
      },
      "outputs": [
        {
          "output_type": "stream",
          "name": "stdout",
          "text": [
            "JSON data saved to summarize_document.json\n"
          ]
        }
      ],
      "source": [
        "import json\n",
        "# Specify the file path where you want to save the JSON data\n",
        "json_file_path = \"summarize_document.json\"\n",
        "\n",
        "# Convert the dictionary to JSON and save it to the file\n",
        "with open(json_file_path, \"w\", encoding=\"utf-8\") as json_file:\n",
        "    json.dump(summarize_document, json_file, ensure_ascii=False, indent=4)\n",
        "\n",
        "# Print a message indicating that the data has been saved\n",
        "print(f\"JSON data saved to {json_file_path}\")"
      ]
    },
    {
      "cell_type": "code",
      "source": [
        "# Roman numeral to integer conversion function\n",
        "def roman_to_int(roman):\n",
        "    roman_numerals = {'I': 1, 'V': 5, 'X': 10, 'L': 50, 'C': 100, 'D': 500, 'M': 1000}\n",
        "    result = 0\n",
        "    i = 0\n",
        "    while i < len(roman):\n",
        "        if i + 1 < len(roman) and roman_numerals[roman[i]] < roman_numerals[roman[i + 1]]:\n",
        "            result -= roman_numerals[roman[i]]\n",
        "        else:\n",
        "            result += roman_numerals[roman[i]]\n",
        "        i += 1\n",
        "    return result\n",
        "\n",
        "# Check if \"Translator’s Preface\" exists and reorder the dictionary\n",
        "# summarize_document = {\n",
        "#     \"Translator’s Preface\": \"Preface text...\",\n",
        "#     \"Part IV\": \"Text for Part IV...\",\n",
        "#     \"Part I\": \"Text for Part I...\"\n",
        "# }\n",
        "\n",
        "\n",
        "    # If there is no \"Translator’s Preface\", sort normally\n",
        "reordered_data = {\n",
        "        key: summarize_document[key] for key in sorted(summarize_document.keys(), key=lambda x: roman_to_int(x.split()[-1]) if x.startswith(\"Part\") else 1000)\n",
        "    }\n",
        "\n",
        "# Specify the file path where you want to save the JSON data\n",
        "json_file_path = \"summarize_documentor.json\"\n",
        "\n",
        "# Convert the reordered dictionary to JSON and save it to the file\n",
        "with open(json_file_path, \"w\", encoding=\"utf-8\") as json_file:\n",
        "    json.dump(reordered_data, json_file, ensure_ascii=False, indent=4)\n",
        "\n",
        "# Print a message indicating that the data has been saved\n",
        "print(f\"JSON data saved to {json_file_path}\")\n"
      ],
      "metadata": {
        "colab": {
          "base_uri": "https://localhost:8080/"
        },
        "id": "Y8zQrsJWmuxY",
        "outputId": "7c4b066f-2725-4066-e088-86916a966131"
      },
      "id": "Y8zQrsJWmuxY",
      "execution_count": 44,
      "outputs": [
        {
          "output_type": "stream",
          "name": "stdout",
          "text": [
            "JSON data saved to summarize_documentor.json\n"
          ]
        }
      ]
    },
    {
      "cell_type": "code",
      "execution_count": 45,
      "id": "df2e9ede",
      "metadata": {
        "colab": {
          "base_uri": "https://localhost:8080/"
        },
        "id": "df2e9ede",
        "outputId": "ff2cb529-1ffa-419a-c169-567ad67a805a"
      },
      "outputs": [
        {
          "output_type": "execute_result",
          "data": {
            "text/plain": [
              "{'Part I': {'Chapter 1': 'On a sweltering July evening, a young man named Raskolnikov leaves his cramped garret in S. Place and heads towards K. bridge, carefully avoiding his landlady due to his overwhelming debt and fear of confrontation. He is deeply absorbed in his own thoughts, struggling with poverty and a sense of isolation that has led him to a state of near-hypochondria. As he walks through the stifling streets of Petersburg, he becomes increasingly agitated and introspective, contemplating a vague, daring plan. He arrives at a large, dilapidated house and visits an old pawnbroker, Alyona Ivanovna, to pawn a watch. The interaction is tense and leaves Raskolnikov feeling disgusted and conflicted. After leaving, he is overcome with loathing for his thoughts and actions, and in a state of distress, he enters a tavern to drink beer, hoping to clear his mind. The tavern is nearly empty, and as he drinks, he momentarily feels a sense of relief, though he remains aware that his improved mood might be fleeting.',\n",
              "  'Chapter 2': \"Raskolnikov, unaccustomed to crowds and recently avoiding society, finds himself in a tavern seeking company. There, he encounters Marmeladov, a disheveled, drunken former clerk who shares his tragic life story. Marmeladov speaks of his educated but destitute wife, Katerina Ivanovna, and their dire poverty. He recounts how his daughter, Sonia, turned to prostitution to support the family. Despite his own failings and alcoholism, Marmeladov expresses deep love and guilt for his family. Raskolnikov, moved by the tale, helps Marmeladov home, where they witness the family's suffering. The scene highlights themes of despair, poverty, and the human capacity for both degradation and compassion.\",\n",
              "  'Chapter 3': \"Raskolnikov wakes up in his squalid, cramped room feeling irritable and unrefreshed. His living conditions are dire, with peeling wallpaper, dusty furniture, and a sofa serving as his bed. He is isolated and avoids interaction, even with the servant girl, Nastasya, who brings him tea and soup. Nastasya informs him that his landlady plans to report him to the police for unpaid rent. Raskolnikov receives a letter from his mother, Pulcheria, detailing the hardships his sister Dounia faced while working for the Svidrigailovs, including harassment from Mr. Svidrigailov. Dounia's reputation is eventually restored, and she becomes engaged to Pyotr Petrovitch Luzhin, a well-off but somewhat conceited man. Pulcheria expresses hope that Luzhin will help Raskolnikov with his career and studies. The letter deeply affects Raskolnikov, leaving him emotional and agitated. He leaves his room, seeking space and clarity, wandering the streets in a disturbed state.\",\n",
              "  'Chapter 4': \"Raskolnikov, the protagonist, is tormented by a letter from his mother revealing his sister Dounia's impending marriage to Mr. Luzhin, a wealthy but unkind man. Raskolnikov vehemently opposes the marriage, believing Dounia is sacrificing herself for his benefit. He reflects bitterly on their financial struggles and the manipulative nature of Luzhin. Distraught, he wanders the streets and encounters a drunken young girl being pursued by a predatory man. Raskolnikov intervenes, involving a policeman, but ultimately questions his right to help. His thoughts shift to his old university friend Razumihin, highlighting his isolation and internal conflict.\",\n",
              "  'Chapter 5': \"Raskolnikov contemplates seeking help from his friend Razumihin for work but dismisses the idea as futile. Agitated and feverish, he wanders aimlessly through the city, eventually falling asleep and having a vivid, disturbing dream about a horse being brutally beaten to death. Upon waking, he is horrified by the dream and his own thoughts of committing a murder. As he walks through the Hay Market, he overhears a conversation revealing that Lizaveta, the sister of the old pawnbroker Alyona Ivanovna, will be away the next evening, leaving Alyona alone. This information solidifies Raskolnikov's resolve to carry out his plan to murder Alyona, feeling that his fate is now sealed.\",\n",
              "  'Chapter 6': \"Raskolnikov learns that Lizaveta was invited by a huckster and his wife to appraise and buy household goods from a destitute family, a common task for her due to her honesty. Raskolnikov, increasingly superstitious, recalls how he first learned about the pawnbroker Alyona Ivanovna from a student named Pokorev. After pawning a ring to Alyona, he overhears a student in a tavern discussing her wealth and cruelty, and the student's hypothetical justification for killing her to use her money for good deeds. This conversation profoundly impacts Raskolnikov, aligning with his own emerging thoughts of murder. He meticulously prepares for the crime, sewing a noose in his coat to conceal an axe. Despite initial setbacks, including nearly being caught by a maid, he manages to steal an axe and approaches Alyona's apartment. Overcome with anxiety but determined, he rings her doorbell, hearing her cautious movements inside before she finally opens the door.\",\n",
              "  'Chapter 7': \"Raskolnikov, the protagonist, visits the old pawnbroker Alyona Ivanovna with the intention of committing a premeditated murder. He gains entry to her apartment under the pretense of pawning a cigarette case. Once inside, he becomes increasingly anxious and, fearing discovery, hastily attacks Alyona with an axe, killing her. As he searches for valuables, Alyona's half-sister, Lizaveta, unexpectedly arrives. In a panic, Raskolnikov kills her as well. Overcome with fear and loathing for his actions, he hurriedly cleans the axe and his hands, then narrowly escapes detection by hiding in an empty flat as two men approach the scene. He eventually makes his way back to his room, where he collapses in a state of mental and physical exhaustion.\"},\n",
              " 'Part II': {'Chapter 1': \"Raskolnikov, the protagonist, wakes up disoriented and feverish, realizing he has overslept and it's past two o'clock. He is haunted by the memory of a crime he committed, and in a panic, he checks his clothes for bloodstains and hides the stolen items. He is interrupted by a knock at the door and receives a summons to the police station. At the station, he is initially terrified, thinking he has been caught, but it turns out to be a routine matter about an unpaid debt. Relieved but still paranoid, he overhears a conversation about the investigation of the crime he committed, which heightens his anxiety. He faints but recovers quickly, answers some questions, and leaves, convinced that the police suspect him and fearing an imminent search of his home.\",\n",
              "  'Chapter 2': 'Raskolnikov, the protagonist, returns to his room in a state of panic, fearing discovery of hidden stolen items. He retrieves and pockets them, planning to dispose of them in the canal. However, he finds it difficult due to the presence of people. He then decides to hide the items under a stone in a deserted courtyard. Feeling a brief sense of relief, he wanders the streets, grappling with intense emotions and self-loathing. He visits his friend Razumihin but abruptly leaves, rejecting his help. Raskolnikov experiences a series of disorienting events, including being mistaken for a beggar and receiving alms. He returns home exhausted and falls asleep, only to be awakened by a terrifying commotion involving his landlady, which he later learns was a hallucination caused by his deteriorating mental state. Nastasya, a servant, brings him food and water, confirming that no one had been beaten, attributing his experience to his illness.',\n",
              "  'Chapter 3': \"Raskolnikov, in a feverish and delirious state, experiences moments of consciousness where he perceives people around him, including Nastasya and an unidentified familiar person. He struggles with fragmented memories and a sense of something forgotten, causing him distress. Upon regaining full consciousness, he finds Nastasya and a stranger, a messenger, in his room. Razumihin, his friend, arrives and informs him about his condition and the care he received. The messenger delivers 35 roubles from Raskolnikov's mother. Despite initial resistance, Raskolnikov signs for the money. Razumihin, who has been looking after him, brings food and updates him on recent events, including securing an I.O.U. from a business man named Tchebarov. Razumihin also brings new clothes for Raskolnikov, bought with money sent by his mother. Raskolnikov, still disoriented, contemplates escaping but eventually falls into a deep sleep. He wakes up to find Razumihin and a familiar tall, stout man entering the room.\",\n",
              "  'Chapter 4': \"Zossimov, a tall, fat, and fashionable 27-year-old doctor, visits Raskolnikov, who is recovering from an illness. Razumihin, Raskolnikov's friend, updates Zossimov on Raskolnikov's condition. They discuss a recent murder case involving a painter named Nikolay, who was found with earrings from the crime scene. Despite Nikolay's confession and suspicious behavior, Razumihin argues that the evidence against him is circumstantial and that the real murderer likely escaped unnoticed. The conversation is interrupted by the arrival of an unknown person.\",\n",
              "  'Chapter 5': \"A stiff, portly gentleman with a sour demeanor visits Raskolnikov's cramped and dirty room, expressing astonishment and mistrust. He scrutinizes Raskolnikov and his friend Razumihin before addressing Zossimov, the doctor, about Raskolnikov's identity. The visitor, Pyotr Petrovitch Luzhin, introduces himself as Raskolnikov's sister's fiancé, but Raskolnikov reacts with hostility and confusion. Luzhin, dressed in new, stylish clothes, tries to discuss progressive ideas and economic theories, but Razumihin and Raskolnikov challenge and insult him. The conversation becomes tense, culminating in Raskolnikov threatening Luzhin, who leaves in a huff. Raskolnikov, agitated and wanting to be alone, is left to his troubled thoughts as his friends discuss his mental state and the impact of recent events on his health.\",\n",
              "  'Chapter 6': \"Raskolnikov, the protagonist, experiences a sudden calm and determination after a period of delirium and fear. He dresses in new clothes, takes some money, and leaves his apartment unnoticed. Wandering the streets aimlessly, he encounters various people and scenes, including a street singer and a crowd of peasants. He feels a strong urge to change his life immediately but is unsure how. He ends up in a restaurant, where he has a tense conversation with Zametov, a police clerk, hinting at his involvement in a recent murder. Raskolnikov's erratic behavior continues as he revisits the crime scene, interacts with workmen, and contemplates going to the police station. His mental state fluctuates between apathy and a desperate need for resolution. The chapter ends with him deciding to go to the police station, feeling that his ordeal will soon be over.\",\n",
              "  'Chapter 7': \"An elegant carriage with spirited grey horses stands in the road, causing a commotion as a man, Marmeladov, lies unconscious and bloodied after being run over. Raskolnikov, recognizing him, insists on taking him to his nearby home rather than the hospital, offering to pay for a doctor. At Marmeladov's home, his wife Katerina Ivanovna, already struggling with poverty and illness, is distraught. Despite efforts to help, Marmeladov dies in his daughter Sonia's arms. Raskolnikov offers financial assistance to the grieving family and leaves, feeling a renewed sense of life and strength. He encounters his mother and sister unexpectedly at his apartment, faints from the shock, but is reassured by his friend Razumihin.\"},\n",
              " 'Part III': {'Chapter 1': \"Raskolnikov, in a fragile state, asks his mother Pulcheria Alexandrovna and sister Avdotya Romanovna (Dounia) to leave with Razumihin, expressing his disdain for Dounia's engagement to Luzhin. Despite their concern, they reluctantly agree, with Razumihin promising to stay with Raskolnikov and bring updates. Razumihin, though drunk, passionately defends his actions and intentions, impressing the women with his sincerity. He later fetches Dr. Zossimov, who reassures them about Raskolnikov's condition. Razumihin's infatuation with Dounia becomes evident, and he discusses his complicated feelings and the situation with his landlady, seeking Zossimov's help. The scene highlights Razumihin's loyalty and the family's deep concern for Raskolnikov's well-being.\",\n",
              "  'Chapter 2': \"Razumihin wakes up troubled by the events of the previous day, feeling ashamed of his drunken behavior and his inappropriate criticism of Avdotya Romanovna's fiancé. He resolves to face his responsibilities silently and dresses carefully to meet her and her mother. Upon arriving, he is warmly received, which confuses him. They discuss Raskolnikov's erratic behavior and the troubling letter from Luzhin, who demands that Raskolnikov not be present at their meeting. Despite their concerns, they decide to visit Raskolnikov, with Razumihin advising them on how to approach him. The chapter ends with the group arriving at Raskolnikov's lodgings, where they are met with a suspicious landlady.\",\n",
              "  'Chapter 3': \"Raskolnikov, now appearing healthier but still visibly distressed, is visited by his mother Pulcheria Alexandrovna, sister Dounia, and friends Zossimov and Razumihin. Despite his improved physical state, Raskolnikov remains emotionally troubled and detached. Zossimov, the doctor, discusses Raskolnikov's recovery and suggests that his mental state is linked to his lack of occupation. Raskolnikov's interactions with his family are strained, marked by a mix of affection and underlying tension. He expresses skepticism about Dounia's engagement to Luzhin, suspecting her motives and questioning Luzhin's character. The conversation reveals Raskolnikov's inner turmoil and the complex dynamics within the family, culminating in a decision to confront Luzhin together, despite his request for Raskolnikov's absence.\",\n",
              "  'Chapter 4': \"Sofya Semyonovna Marmeladov, a modest and timid young girl, unexpectedly enters a room full of people, including Raskolnikov, who initially does not recognize her. She is there to deliver a message from Katerina Ivanovna, requesting Raskolnikov's presence at a funeral service. Despite her shyness and poor attire, Raskolnikov feels a sudden pang of sympathy for her. During the conversation, Raskolnikov introduces her to his mother and sister, who scrutinize her with mixed feelings. After some awkward exchanges, Raskolnikov and his friend Razumihin decide to visit Porfiry Petrovitch regarding some pawned items. Meanwhile, an unknown gentleman follows Sonia to her lodging, observing her closely. The scene ends with Raskolnikov and Razumihin arriving at Porfiry's place, with Raskolnikov feeling anxious about the upcoming interaction.\",\n",
              "  'Chapter 5': \"Raskolnikov and Razumihin visit Porfiry Petrovitch, where Raskolnikov struggles to suppress his laughter at Razumihin's awkwardness. Porfiry, a jovial and somewhat ironic investigator, engages Raskolnikov in a conversation that subtly probes his psychological state and his views on crime, particularly focusing on an article Raskolnikov wrote about extraordinary individuals having the right to transgress laws for the greater good. The discussion becomes tense as Porfiry and Zametov, another official present, hint at their suspicions about Raskolnikov's involvement in a recent murder. Raskolnikov tries to maintain his composure but is internally agitated, suspecting that they are toying with him. The meeting ends with Porfiry inviting Raskolnikov to visit again, leaving Raskolnikov deeply unsettled and suspicious of their intentions.\",\n",
              "  'Chapter 6': \"Razumihin and Raskolnikov engage in a heated discussion about the suspicions surrounding Raskolnikov, particularly focusing on the behavior of Porfiry and Zametov. Razumihin is perplexed and tries to refute Raskolnikov's arguments, but Raskolnikov remains cold and dismissive. As they approach Bakaleyev’s lodgings, Raskolnikov becomes increasingly agitated and eventually leaves Razumihin to go alone, promising to return shortly. Raskolnikov, in a state of paranoia, rushes home to check if any evidence of his crime has been left behind. He encounters a mysterious man who accuses him of being a murderer, which deeply unsettles him. Raskolnikov returns to his room, overwhelmed by feverish thoughts and guilt. He experiences a disturbing dream where he repeatedly strikes the old woman he murdered, only to find her laughing at him. Upon waking, he finds a stranger, Arkady Ivanovitch Svidrigaïlov, watching him intently, who then introduces himself.\"},\n",
              " 'Part IV': {'Chapter 1': \"Raskolnikov is visited by Svidrigaïlov, who expresses a desire to make his acquaintance and seek his assistance regarding Raskolnikov's sister, Avdotya Romanovna. Svidrigaïlov, who has a dubious past, including the suspicious death of his wife Marfa Petrovna, proposes to give Avdotya ten thousand roubles to help her break off her engagement with Mr. Luzhin, whom Svidrigaïlov deems unsuitable. Raskolnikov is skeptical and hostile, suspecting ulterior motives. Svidrigaïlov also shares eerie experiences of seeing his deceased wife’s ghost, which Raskolnikov dismisses as madness. Despite Raskolnikov's refusal to help, Svidrigaïlov insists on his intentions and reveals that Marfa Petrovna left Avdotya three thousand roubles in her will. The conversation ends with Svidrigaïlov leaving, hinting at further intentions to see Avdotya.\",\n",
              "  'Chapter 2': 'In this passage from \"Crime and Punishment,\" Raskolnikov and Razumihin hurry to Bakaleyev’s to meet Luzhin. On the way, Raskolnikov reveals his fear of Svidrigaïlov, the man who had previously harassed his sister, Dounia. They discuss the strange behavior of Svidrigaïlov and the need to protect Dounia from him. Upon arriving, they encounter Luzhin, who is there to discuss important matters with Dounia and her mother, Pulcheria Alexandrovna. Tensions rise as Luzhin feels slighted by Raskolnikov and demands an explanation for perceived insults. Dounia insists on resolving the conflict, stating that her future depends on it. Luzhin becomes increasingly irate, especially when Raskolnikov reveals that Svidrigaïlov has visited him and has a proposal for Dounia. The situation escalates, leading to a heated argument where Dounia ultimately rejects Luzhin, who leaves in a fit of anger, vowing never to return.',\n",
              "  'Chapter 3': \"Pyotr Petrovitch, a conceited and self-admiring man, is shocked when Dounia, whom he considered helpless and indebted to him, rejects his control. He had envisioned her as a submissive wife who would elevate his social status. Despite his manipulative intentions, Dounia and her family are relieved to be free from him. Razumihin, a friend, proposes a business venture to support them, which excites Dounia. Meanwhile, Raskolnikov, Dounia's brother, insists on distancing himself from his family, citing his need for solitude and inner turmoil. Razumihin promises to care for Dounia and her mother, stepping into a supportive role.\",\n",
              "  'Chapter 4': \"Raskolnikov visits Sonia in her impoverished room, which she rents from the Kapernaumovs. He finds her agitated and frightened by his unexpected visit. They discuss her dire living conditions, her family's struggles, and her deep faith in God. Raskolnikov, tormented by his own guilt and despair, questions Sonia's faith and the purpose of her suffering. He insists she read the story of Lazarus from the Bible, which she does with great emotion. Raskolnikov reveals he has abandoned his family and suggests they face their cursed fates together. He hints at knowing who killed Lizaveta, leaving Sonia in a state of shock and confusion. Unbeknownst to them, Svidrigaïlov eavesdrops on their entire conversation, finding it intriguing.\",\n",
              "  'Chapter 5': \"Raskolnikov arrives punctually at the investigation department to meet Porfiry Petrovitch but is kept waiting, which makes him anxious and suspicious. When he finally meets Porfiry, the atmosphere is tense and filled with psychological maneuvering. Porfiry engages in seemingly trivial and irrelevant conversation, which Raskolnikov perceives as a tactic to unsettle him. Despite Raskolnikov's attempts to maintain composure, he becomes increasingly agitated and confrontational, accusing Porfiry of trying to manipulate and provoke him. Porfiry, in turn, alternates between friendly banter and subtle insinuations, hinting that he knows more about Raskolnikov's involvement in the murders than he lets on. The interaction culminates in a heated exchange where Raskolnikov demands clarity on whether he is a suspect, leading to a dramatic and unexpected conclusion.\",\n",
              "  'Chapter 6': 'In this scene from \"Crime and Punishment,\" Raskolnikov witnesses a dramatic interruption during an interrogation by Porfiry Petrovitch. The prisoner Nikolay is forcibly brought in and confesses to the murders of Alyona and Lizaveta Ivanovna, claiming he acted alone. Porfiry is skeptical and frustrated, suspecting Nikolay\\'s confession is not genuine. Raskolnikov, initially shaken, regains some composure and leaves, only to be followed by Porfiry, who hints at further questioning. Later, Raskolnikov encounters a man who confesses to having wronged him by reporting his suspicious behavior to Porfiry. This revelation reassures Raskolnikov, who resolves to fight against the suspicions surrounding him.'},\n",
              " 'Part V': {'Chapter 1': \"The morning after a distressing interview with Dounia and her mother, Pyotr Petrovitch grapples with the reality of his situation, feeling the sting of wounded vanity. Despite his initial hope of finding a better bride, he faces a series of frustrations, including legal troubles and financial losses related to his canceled marriage plans. His irritation is compounded by his young friend, Andrey Semyonovitch Lebeziatnikov, whose progressive ideas and perceived foolishness annoy him. Petrovitch's disdain for Lebeziatnikov grows, though he still seeks his help in understanding the influence of progressive circles in Petersburg. Petrovitch's day worsens as he deals with the aftermath of his broken engagement and the preparations for a funeral dinner. He contemplates his missteps and regrets not being more generous to Dounia's family. Despite his frustrations, he attempts to assist Katerina Ivanovna's family financially, though his motives and methods are questioned. The narrative highlights Petrovitch's internal conflicts, his manipulative tendencies, and his interactions with those around him, revealing his complex character and the social dynamics at play.\",\n",
              "  'Chapter 2': \"Katerina Ivanovna, driven by a mix of pride, social pressure, and mental strain, organizes an extravagant memorial dinner for her deceased husband using a significant portion of the money given by Raskolnikov for the funeral. Despite her efforts, the event is marred by the poor quality of the food and drink, the unseemly behavior of the guests, and the absence of more respectable invitees. Katerina's volatile temperament and heightened pride lead to tensions, particularly with the landlady, Amalia Ivanovna, who had helped with the preparations but becomes a target of Katerina's scorn. The dinner descends into chaos with insults and accusations flying, culminating in a near-physical altercation just as Pyotr Petrovitch Luzhin arrives.\",\n",
              "  'Chapter 3': 'In this passage from \"Crime and Punishment,\" Katerina Ivanovna pleads with Pyotr Petrovitch to protect her and her family, but he dismisses her and accuses her stepdaughter, Sonia, of stealing a hundred-rouble note. Despite Sonia\\'s denial and Katerina\\'s defense, Pyotr Petrovitch insists on his accusation, leading to a chaotic scene. Lebeziatnikov, a witness, reveals that he saw Pyotr Petrovitch plant the note in Sonia\\'s pocket, exposing his deceit. Raskolnikov supports this claim, explaining that Pyotr Petrovitch\\'s actions were motivated by a desire for revenge and to discredit Raskolnikov in front of his family. The crowd turns against Pyotr Petrovitch, who leaves in disgrace. The incident leaves Sonia devastated, and Katerina Ivanovna, in a state of despair, rushes out to seek justice, while the lodgers react with confusion and disorder.',\n",
              "  'Chapter 4': \"Raskolnikov, despite his own torment, defends Sonia against Luzhin and feels a mix of relief and dread as he prepares to confess to her about killing Lizaveta. When he arrives at Sonia's, he hesitates but ultimately reveals his crime. Sonia reacts with distress but remains supportive, expressing her willingness to follow him even to Siberia. Raskolnikov grapples with his motives, admitting he sought to test his own limits rather than out of necessity. Sonia urges him to seek redemption through confession and suffering, but Raskolnikov is conflicted about surrendering to the authorities. Their conversation is interrupted by a knock at the door from Mr. Lebeziatnikov.\",\n",
              "  'Chapter 5': \"Lebeziatnikov informs Sonia and Raskolnikov that Katerina Ivanovna has gone mad, leading Sonia to rush out in distress. Katerina, in a state of delirium, is found making her children perform in the streets to beg for money. Despite attempts to calm her, she collapses and is taken to Sonia's room, where she dies from her illness. Raskolnikov feels a deep sense of isolation and guilt. Svidrigaïlov offers to take care of Katerina's children and help Sonia, revealing he has been eavesdropping on Raskolnikov. The scene underscores themes of despair, madness, and unexpected acts of kindness amidst suffering.\",\n",
              "  ' ': \"Lebeziatnikov informs Sonia and Raskolnikov that Katerina Ivanovna has gone mad, leading Sonia to rush out to find her. Katerina, in a state of delirium, is forcing her children to perform in the streets to earn money, attracting a crowd and the attention of a policeman. Despite efforts to calm her, Katerina collapses and is taken to Sonia's room, where she dies from her illness. Raskolnikov feels a deep sense of isolation and guilt. Svidrigaïlov offers to take care of Katerina's children and Sonia, revealing he has been eavesdropping on Raskolnikov, which unsettles him deeply.\"},\n",
              " 'Part VI': {'Chapter 1': \"Raskolnikov experiences a period of mental fog and isolation, marked by confusion and panic, following the death of Katerina Ivanovna. He is haunted by thoughts of Svidrigaïlov, who has made arrangements for Katerina's children and hinted at a need for a serious conversation. Raskolnikov's interactions with others, including Sonia and Razumihin, reveal his inner turmoil and the strain on his relationships. Razumihin suspects Raskolnikov of being involved in political conspiracies and is troubled by his erratic behavior. Meanwhile, Raskolnikov is tormented by his conscience and the need to confront Svidrigaïlov and Porfiry. The narrative culminates in an unexpected visit from Porfiry, leaving Raskolnikov on edge but strangely composed, ready to face whatever comes next.\",\n",
              "  'Chapter 2': 'In this passage from \"Crime and Punishment,\" Porfiry Petrovitch, a detective, engages in a psychological confrontation with Raskolnikov, the protagonist. Porfiry discusses his addiction to cigarettes and his health issues, then shifts to recounting his previous interactions with Raskolnikov, hinting at his suspicions and investigative methods. He reveals his belief that Raskolnikov is the murderer, despite Raskolnikov\\'s denials. Porfiry suggests that Raskolnikov should confess, arguing it would be in his best interest and might lead to a reduced sentence. The conversation oscillates between Porfiry\\'s sympathetic understanding and his firm conviction of Raskolnikov\\'s guilt, ultimately urging Raskolnikov to face his actions and seek redemption through suffering.',\n",
              "  'Chapter 3': \"Raskolnikov, feeling a compulsion to confront Svidrigaïlov, hurries to meet him, driven by an inexplicable power the man holds over him. On his way, Raskolnikov is plagued by the thought of whether Svidrigaïlov has been to see Porfiry, the investigator. He is also tormented by the fear that Svidrigaïlov might use his knowledge of Raskolnikov's secret against his sister, Dounia. Upon finding Svidrigaïlov in a tavern, Raskolnikov confronts him, expressing his readiness to kill him if he threatens Dounia. Svidrigaïlov, who appears nonchalant and slightly inebriated, engages in a candid conversation, revealing his hedonistic lifestyle and his fear of death. Despite Raskolnikov's disdain, Svidrigaïlov insists on sharing a story about Dounia, hinting at a deeper connection and respect for her.\",\n",
              "  'Chapter 4': \"Svidrigaïlov recounts his tumultuous relationship with his late wife, Marfa Petrovna, who bailed him out of debtors' prison and entered into a complex marital contract with him. Despite his infidelities, Marfa tolerated his behavior under certain conditions. Svidrigaïlov reveals his manipulative nature, describing his attempts to seduce Raskolnikov's sister, Avdotya Romanovna, and his engagement to a young girl. He admits to using flattery and deceit to achieve his desires. Raskolnikov becomes increasingly suspicious of Svidrigaïlov's intentions, especially regarding his sister. The conversation ends with Svidrigaïlov leaving the restaurant, and Raskolnikov deciding to follow him, wary of his motives.\",\n",
              "  'Chapter 5': \"Raskolnikov confronts Svidrigaïlov, suspecting him of pursuing his sister, Dounia. Svidrigaïlov dismisses the accusation and reveals he has been helping Sofya Semyonovna and her family. Despite Raskolnikov's suspicions, he leaves, but Dounia later encounters Svidrigaïlov, who manipulates her into coming to his apartment. There, he reveals Raskolnikov's confession of murder to Sofya. Dounia, armed with a revolver, threatens Svidrigaïlov but fails to shoot him. Svidrigaïlov, realizing Dounia does not love him, releases her. He then contemplates his actions, showing signs of despair and inner turmoil.\",\n",
              "  'Chapter 6': \"Svidrigaïlov spends an evening indulging in various lowly entertainments, treating people and visiting a pleasure garden. He later visits Sonia, gives her money for her and her siblings, and hints at Raskolnikov's grim future. He then visits his fiancée's parents, gives them a large sum of money, and leaves abruptly. Svidrigaïlov checks into a shabby hotel, experiences disturbing dreams, and wakes up feeling feverish. He decides to leave, encounters a neglected child, and eventually heads out into the misty morning. He contemplates his actions and fate, ultimately deciding to end his life. He encounters a guard, exchanges a few words, and then shoots himself.\",\n",
              "  'Chapter 7': \"Raskolnikov, in a state of inner turmoil and exhaustion, visits his mother, Pulcheria Alexandrovna, at her lodging. Despite his disheveled appearance and the emotional strain he's under, he is determined to see her. Pulcheria is overjoyed to see her son but senses his distress. Raskolnikov reassures her of his love and asks for her prayers, hinting at his impending departure and the suffering he anticipates. He then visits his sister, Dounia, who is deeply worried about him. Raskolnikov confesses his struggles and his decision to face the consequences of his actions, expressing a mix of pride and despair. Despite his inner conflict, he resolves to give himself up, driven by a complex blend of guilt, pride, and a desire for redemption. The chapter ends with Raskolnikov's departure, leaving his family in anguish and himself contemplating the harsh future that awaits him.\",\n",
              "  'Chapter 8': \"Raskolnikov visits Sonia, who has been anxiously waiting for him with Dounia. Both women fear he might commit suicide. When he arrives, he asks Sonia for a cross and speaks incoherently, revealing his plan to confess to the murders. He leaves abruptly, forgetting to say goodbye to Sonia, and heads to the police station. There, he confesses to the murders of the pawnbroker and her sister. Raskolnikov is sentenced to eight years of penal servitude in Siberia. His mother falls ill and dies, while Dounia marries Razumihin. Sonia follows Raskolnikov to Siberia, where he initially remains aloof and unrepentant. Over time, he begins to feel a deep connection with Sonia, leading to a moment of emotional reconciliation. The story ends with the promise of Raskolnikov's gradual moral and spiritual regeneration.\"}}"
            ]
          },
          "metadata": {},
          "execution_count": 45
        }
      ],
      "source": [
        "reordered_data"
      ]
    },
    {
      "cell_type": "markdown",
      "id": "d989ef55",
      "metadata": {
        "id": "d989ef55"
      },
      "source": [
        "# PDF Generation of Summary"
      ]
    },
    {
      "cell_type": "code",
      "execution_count": 46,
      "id": "b37651cd",
      "metadata": {
        "colab": {
          "base_uri": "https://localhost:8080/"
        },
        "id": "b37651cd",
        "outputId": "226773e9-5ab3-4e42-fd3f-f6517c7bd0bc"
      },
      "outputs": [
        {
          "output_type": "stream",
          "name": "stdout",
          "text": [
            "PDF created: summarize_document.pdf\n"
          ]
        }
      ],
      "source": [
        "from reportlab.lib.pagesizes import letter\n",
        "from reportlab.platypus import SimpleDocTemplate, Paragraph, Spacer\n",
        "from reportlab.lib.styles import getSampleStyleSheet\n",
        "\n",
        "# Create a PDF document\n",
        "pdf_file_path = \"summarize_document.pdf\"\n",
        "doc = SimpleDocTemplate(pdf_file_path, pagesize=letter)\n",
        "\n",
        "story = []\n",
        "\n",
        "# Define padding values\n",
        "padding_left = 50  # Adjust the left padding\n",
        "padding_right = 50  # Adjust the right padding\n",
        "padding_top = 50  # Adjust the top padding\n",
        "padding_bottom = 50  # Adjust the bottom padding\n",
        "\n",
        "# Define a style for the title\n",
        "title_style = getSampleStyleSheet()[\"Title\"]\n",
        "title_style.fontName = \"Helvetica-Bold\"\n",
        "title_style.alignment = 1  # Centered\n",
        "title_style.fontSize = 42  # Increase the font size for the title\n",
        "title_style.leading = 56  # Increase the line spacing (leading) for the title\n",
        "\n",
        "# Define a style for the top-level section titles (Heading1)\n",
        "styles = getSampleStyleSheet()\n",
        "heading1_style = styles[\"Heading1\"]\n",
        "heading1_style.fontSize = 36  # Increase the font size for Heading1\n",
        "heading1_style.leading = 48  # Increase the line spacing (leading) for the title\n",
        "\n",
        "heading2_style = styles[\"Heading2\"]\n",
        "heading2_style.fontSize = 28  # Increase the font size for Heading1\n",
        "heading2_style.leading = 36  # Increase the line spacing (leading) for the title\n",
        "\n",
        "# Define a style for the paragraphs\n",
        "style = styles[\"Normal\"]\n",
        "style.fontSize = 14  # Increase the font size for the paragraphs\n",
        "style.leading = 20  # Increase the line spacing (leading) for the title\n",
        "\n",
        "# Add the title to the PDF\n",
        "title_text = \"Summary: Crime and Punishment\"\n",
        "title = Paragraph(title_text, title_style)\n",
        "story.append(title)\n",
        "\n",
        "# Add spacing above the title\n",
        "story.append(Spacer(1, padding_top))\n",
        "\n",
        "# Iterate through the JSON data and add the \"Translator’s Preface,\" parts, chapters, and summaries to the PDF\n",
        "for section, chapters in reordered_data.items():\n",
        "    # Add the section title to the PDF\n",
        "    section_title = Paragraph(section, heading1_style)  # Use the Heading1 style for top-level titles\n",
        "    story.append(section_title)\n",
        "\n",
        "    for chapter, summary in chapters.items():\n",
        "        # Skip the empty chapter title for the \"Translator’s Preface\"\n",
        "        if chapter:\n",
        "            # Add the chapter title to the PDF\n",
        "            chapter_title = Paragraph(chapter, heading2_style)\n",
        "            story.append(chapter_title)\n",
        "\n",
        "        # Add the chapter summary to the PDF\n",
        "        chapter_summary = Paragraph(summary, style)\n",
        "        story.append(chapter_summary)\n",
        "\n",
        "        # Add space between chapters\n",
        "    story.append(Spacer(1, padding_bottom + 20))  # Add spacing below each chapter\n",
        "\n",
        "# Build the PDF document\n",
        "doc.build(story)\n",
        "\n",
        "print(f\"PDF created: {pdf_file_path}\")\n"
      ]
    },
    {
      "cell_type": "code",
      "source": [],
      "metadata": {
        "id": "bYmvyp6kofaj"
      },
      "id": "bYmvyp6kofaj",
      "execution_count": null,
      "outputs": []
    }
  ],
  "metadata": {
    "kernelspec": {
      "display_name": "Python 3 (ipykernel)",
      "language": "python",
      "name": "python3"
    },
    "language_info": {
      "codemirror_mode": {
        "name": "ipython",
        "version": 3
      },
      "file_extension": ".py",
      "mimetype": "text/x-python",
      "name": "python",
      "nbconvert_exporter": "python",
      "pygments_lexer": "ipython3",
      "version": "3.11.5"
    },
    "colab": {
      "provenance": []
    }
  },
  "nbformat": 4,
  "nbformat_minor": 5
}